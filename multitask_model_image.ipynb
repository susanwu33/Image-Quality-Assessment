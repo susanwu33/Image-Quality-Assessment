{
 "cells": [
  {
   "cell_type": "code",
   "execution_count": 37,
   "id": "f276a7e0",
   "metadata": {
    "tags": []
   },
   "outputs": [],
   "source": [
    "from PIL import Image\n",
    "import os\n",
    "import torch\n",
    "import torch.nn as nn\n",
    "import torch.optim as optim\n",
    "from torch.optim import lr_scheduler\n",
    "import torchvision\n",
    "import torchvision.transforms.functional\n",
    "from torch.nn.modules.loss import _Loss\n",
    "from torchvision import transforms, models, datasets\n",
    "from torch.utils.data import TensorDataset\n",
    "from torch.utils.data import DataLoader, Dataset\n",
    "from torch.utils.data.sampler import Sampler\n",
    "from torch.autograd import Variable\n",
    "import segmentation_models_pytorch as smp\n",
    "import numpy as np\n",
    "#import cv2\n",
    "from tqdm import tqdm\n",
    "import matplotlib.pyplot as plt\n",
    "import random\n",
    "from torchvision.models import resnet50, efficientnet_b0, inception_v3, efficientnet_b4\n",
    "from torchvision.models import ResNet50_Weights\n",
    "from sklearn.metrics import f1_score, recall_score, precision_score, confusion_matrix\n",
    "import seaborn as sns\n",
    "import csv\n",
    "import glob\n",
    "import random\n",
    "import copy\n",
    "import pandas as pd\n",
    "\n",
    "from pytorch_grad_cam import GradCAM, HiResCAM, ScoreCAM, GradCAMPlusPlus, AblationCAM, XGradCAM, EigenCAM, FullGrad\n",
    "from pytorch_grad_cam.utils.model_targets import ClassifierOutputTarget\n",
    "from pytorch_grad_cam.utils.image import show_cam_on_image"
   ]
  },
  {
   "cell_type": "code",
   "execution_count": 115,
   "id": "5d8437b3",
   "metadata": {
    "tags": []
   },
   "outputs": [
    {
     "name": "stdout",
     "output_type": "stream",
     "text": [
      "cuda:0\n",
      "1291\n",
      "941\n"
     ]
    }
   ],
   "source": [
    "# define the device (gpu/cpu)\n",
    "device = torch.device(\"cuda:0\" if torch.cuda.is_available() else \"cpu\")\n",
    "print(device)\n",
    "\n",
    "# folder path\n",
    "img_dir_path = r'images'\n",
    "mask_dir_path = r'cleaned_masks'\n",
    "\n",
    "# all the paths\n",
    "img_whole_paths = []\n",
    "mask_whole_paths = []\n",
    "\n",
    "# image data array\n",
    "images = []\n",
    "\n",
    "# image labels\n",
    "labels = []\n",
    "\n",
    "# seg masks\n",
    "masks = []\n",
    "\n",
    "# batch size and epochs\n",
    "batch = 8\n",
    "epochs = 500\n",
    "\n",
    "# Iterate directory to store the paths\n",
    "# images\n",
    "for path in os.listdir(img_dir_path):\n",
    "    if path[0] != '.':\n",
    "        #print(path)\n",
    "        img_p = os.path.join(img_dir_path, path)\n",
    "        # check if current path is a file\n",
    "        if os.path.isfile(img_p):\n",
    "            #print(path)\n",
    "            # store the path names\n",
    "            img_whole_paths.append(img_p)\n",
    "                \n",
    "# masks\n",
    "for path in os.listdir(mask_dir_path):\n",
    "    if path[0] != '.':\n",
    "        #print(path)\n",
    "        img_p = os.path.join(mask_dir_path, path)\n",
    "        # check if current path is a file\n",
    "        if os.path.isfile(img_p):\n",
    "            #print(path)\n",
    "            # store the path names\n",
    "            mask_whole_paths.append(img_p)\n",
    "                \n",
    "print(len(img_whole_paths))\n",
    "print(len(mask_whole_paths))\n"
   ]
  },
  {
   "cell_type": "code",
   "execution_count": 3,
   "id": "0aef83e2-5c00-4b75-aa75-52e385f4cf8d",
   "metadata": {
    "tags": []
   },
   "outputs": [
    {
     "data": {
      "text/plain": [
       "\"\\nfor i in mask_whole_paths:\\n    if len(i.split(' ')) > 1:\\n        print(i)\\n\""
      ]
     },
     "execution_count": 3,
     "metadata": {},
     "output_type": "execute_result"
    }
   ],
   "source": [
    "'''\n",
    "for i in mask_whole_paths:\n",
    "    if len(i.split(' ')) > 1:\n",
    "        print(i)\n",
    "'''"
   ]
  },
  {
   "cell_type": "code",
   "execution_count": 116,
   "id": "92412c2c",
   "metadata": {
    "tags": []
   },
   "outputs": [],
   "source": [
    "# combine image path and mask path into one dictionary\n",
    "path_combine = []\n",
    "\n",
    "for item in img_whole_paths:\n",
    "    path_dict = {}\n",
    "    fn = os.path.join(mask_dir_path, os.path.basename(item))\n",
    "    #print(fn)\n",
    "    res = glob.glob(fn)\n",
    "    #print(res)\n",
    "    path_dict['img_path'] = item\n",
    "    if len(res) != 0:\n",
    "        path_dict['mask_path'] = res[0]\n",
    "        \n",
    "    path_combine.append(path_dict)\n",
    "\n",
    "#print(path_combine)"
   ]
  },
  {
   "cell_type": "code",
   "execution_count": 117,
   "id": "97aed8db-e2ed-4a67-aa55-965527cca566",
   "metadata": {
    "tags": []
   },
   "outputs": [],
   "source": [
    "# split the sets\n",
    "SEED = 62\n",
    "random.seed(SEED)\n",
    "random.shuffle(path_combine)\n",
    "\n",
    "train_path_combine = path_combine[:int(0.7*len(path_combine))]\n",
    "test_path_combine = path_combine[int(0.7*len(path_combine)):int(0.85*len(path_combine))]\n",
    "val_path_combine = path_combine[int(0.85*len(path_combine)):]"
   ]
  },
  {
   "cell_type": "code",
   "execution_count": 118,
   "id": "e2f2b2f4",
   "metadata": {
    "tags": []
   },
   "outputs": [],
   "source": [
    "# =============================================================================\n",
    "# Resize and Crop (use early)\n",
    "# =============================================================================\n",
    "class ResizeCrop(object):\n",
    "    ''' Resize all to same size, then crop to get a square '''\n",
    "\n",
    "    def __init__(self, size):\n",
    "        self.resize = transforms.Resize(size=size, interpolation=transforms.InterpolationMode.NEAREST_EXACT)\n",
    "        #self.centercrop = transforms.CenterCrop(size=size)\n",
    "\n",
    "    def __call__(self, sample):\n",
    "        image, mask, has_mask = sample['image'], sample['mask'], sample['has_mask']\n",
    "        # also pass the size to be cropped into\n",
    "        crop_size = sample['cropsize']\n",
    "        \n",
    "        # resize and crop to same size for image\n",
    "        centercrop = transforms.CenterCrop(size=crop_size)\n",
    "        image = centercrop(image)\n",
    "        sample['image'] = self.resize(image)\n",
    "\n",
    "        # for mask\n",
    "        if has_mask:\n",
    "            mask = centercrop(mask)\n",
    "            sample['mask'] = self.resize(mask)\n",
    "\n",
    "        return sample\n",
    "\n",
    "# =============================================================================\n",
    "# Random Horizontal Flip (use early)\n",
    "# =============================================================================\n",
    "class RandomHorizontalFlip(object):\n",
    "    ''' Flips image and mask horizontal when random value higher than p\n",
    "    '''\n",
    "    def __init__(self, p=0.5):\n",
    "        self.p = p\n",
    "    \n",
    "    def __call__(self, sample):\n",
    "        image, mask, has_mask = sample['image'], sample['mask'], sample['has_mask']\n",
    "        \n",
    "        if random.random() < self.p:   \n",
    "            image = transforms.functional.hflip(image)\n",
    "            if has_mask:\n",
    "                mask = transforms.functional.hflip(mask)\n",
    "\n",
    "        sample['image'] = image\n",
    "        sample['mask'] = mask\n",
    "        return sample\n",
    "    \n",
    "\n",
    "# =============================================================================\n",
    "# Random Vertical Flip (use early)\n",
    "# =============================================================================\n",
    "class RandomVerticalFlip(object):\n",
    "    ''' Flips image and mask vartically when random value higher than p\n",
    "    '''\n",
    "    def __init__(self, p=0.5):\n",
    "        self.p = p\n",
    "    \n",
    "    def __call__(self, sample):\n",
    "        image, mask, has_mask = sample['image'], sample['mask'], sample['has_mask']\n",
    "        \n",
    "        if random.random() < self.p:   \n",
    "            image = torchvision.transforms.functional.vflip(image)\n",
    "            if has_mask:\n",
    "                mask = torchvision.transforms.functional.vflip(mask)\n",
    "\n",
    "        sample['image'] = image\n",
    "        sample['mask'] = mask\n",
    "        return sample\n",
    "    \n",
    "\n",
    "#\n",
    "# =============================================================================\n",
    "#  Normalise (use middle)\n",
    "# =============================================================================\n",
    "class Normalize(object):\n",
    "    # used for both train and validation\n",
    "    def __init__(self, mean, std):\n",
    "        self.normalize = transforms.Normalize(mean, std)\n",
    "\n",
    "    def __call__(self, sample):\n",
    "        \n",
    "        image = sample['image']\n",
    "        sample['image'] = self.normalize(image)\n",
    "        \n",
    "        return sample\n",
    "\n",
    "\n",
    "# =============================================================================\n",
    "# ToTensor class (use last)\n",
    "# =============================================================================\n",
    "class ToTensor(object):\n",
    "    ''' Creates a tensor from an image '''\n",
    "    \n",
    "    def __call__(self, sample):\n",
    "        \n",
    "        sample['image'] = transforms.functional.to_tensor(sample['image'])\n",
    "        sample['mask'] = transforms.functional.to_tensor(sample['mask'])\n",
    "            \n",
    "        return sample\n",
    "\n",
    "    \n",
    "    "
   ]
  },
  {
   "cell_type": "code",
   "execution_count": 119,
   "id": "66260845",
   "metadata": {
    "tags": []
   },
   "outputs": [],
   "source": [
    "# define the customized dataset\n",
    "class MyDataset(Dataset):\n",
    "    \"\"\"my own dataset.\"\"\"\n",
    "\n",
    "    def __init__(self, paths, mode):\n",
    "        self.mode = mode\n",
    "        \n",
    "        # has been divided\n",
    "        self.paths = paths\n",
    "        \n",
    "        # image size\n",
    "        self.size = 288 #320  #288\n",
    "        \n",
    "        # define the transform\n",
    "        if mode == 'train':\n",
    "            self.transform = transforms.Compose([\n",
    "                ToTensor(),\n",
    "                ResizeCrop(self.size),\n",
    "                RandomHorizontalFlip(p=0.5),\n",
    "                RandomVerticalFlip(p=0.5),\n",
    "                #transforms.Normalize((0.485, 0.456, 0.406), (0.229, 0.224, 0.225))\n",
    "                Normalize((0.5, 0.5, 0.5), (0.5, 0.5, 0.5))\n",
    "            ])\n",
    "        else:\n",
    "            self.transform = transforms.Compose([\n",
    "                ToTensor(),\n",
    "                ResizeCrop(self.size),\n",
    "                #transforms.Normalize((0.485, 0.456, 0.406), (0.229, 0.224, 0.225))\n",
    "                Normalize((0.5, 0.5, 0.5), (0.5, 0.5, 0.5))\n",
    "            ])\n",
    "            \n",
    "\n",
    "            \n",
    "            \n",
    "        self.fake_mask = {}\n",
    "                    \n",
    "        self.colors = [0, 75, 149, 178, 222]\n",
    "        \n",
    "\n",
    "    def __len__(self):\n",
    "        return len(self.paths)\n",
    "\n",
    "    \n",
    "    \n",
    "    def __getitem__(self, idx):\n",
    "        if torch.is_tensor(idx):\n",
    "            idx = idx.tolist()\n",
    "            \n",
    "        filename = os.path.basename(self.paths[idx]['img_path'])\n",
    "\n",
    "        im = Image.open(self.paths[idx]['img_path']).convert(\"RGB\")\n",
    "        #im.show()\n",
    "        \n",
    "                \n",
    "        img_w, img_h= im.size  #totensor: channel, height, width\n",
    "        \n",
    "        crop_size = max(min(img_w, img_h) - 30, self.size)\n",
    "        #crop_size = 320\n",
    "        \n",
    "        '''\n",
    "        # Setting the points for cropped image\n",
    "        img_left = 12\n",
    "        img_top = 12\n",
    "        img_right = img_w-12\n",
    "        img_bottom = img_h-12\n",
    "        im = im.crop((img_left, img_top, img_right, img_bottom))\n",
    "        '''\n",
    "        \n",
    "        # check whether it has a mask\n",
    "        if len(self.paths[idx]) > 1:\n",
    "            mask = np.asarray(Image.open(self.paths[idx]['mask_path']).convert(\"L\"))\n",
    "            \n",
    "            onehot_mask = np.zeros((mask.shape[0], mask.shape[1], 5))\n",
    "            for i, unique_value in enumerate(self.colors):\n",
    "                onehot_mask[:, :, i][mask == unique_value] = 1\n",
    "            #onehot_mask = Image.fromarray(onehot_mask.astype(\"uint8\"))\n",
    "            #mask.show()\n",
    "            #print('before transform',np.unique(np.array(mask)[150]))\n",
    "            #print(np.array(mask))\n",
    "            #mask = self.paths[idx]['mask_path'] # already a tensor, no need to transform\n",
    "            \n",
    "            '''            \n",
    "            mask_w, mask_h = mask.size\n",
    "            \n",
    "            # Setting the points for cropped mask\n",
    "            mask_left = 12\n",
    "            mask_top = 12\n",
    "            mask_right = mask_w-12\n",
    "            mask_bottom = mask_h-12\n",
    "            mask = mask.crop((mask_left, mask_top, mask_right, mask_bottom))         \n",
    "\n",
    "            # error message if image and mask size dont match\n",
    "            if img_w != mask_w:\n",
    "                print(\"width mismatch! image and mask:\", self.paths[idx]['img_path'], img_w, self.paths[idx]['mask_path'], mask_w, )\n",
    "            if img_h != mask_h:\n",
    "                print(\"height mismatch! image and mask:\", self.paths[idx]['img_path'], img_h, self.paths[idx]['mask_path'], mask_h)\n",
    "            '''\n",
    "            \n",
    "            has_mask = True\n",
    "\n",
    "        else:\n",
    "            # directly make up a tensor (all black)\n",
    "            #mask = torch.zeros(1, self.size, self.size)\n",
    "            onehot_mask = np.zeros((self.size, self.size, 5))\n",
    "            onehot_mask[:, :, 0] = 1\n",
    "            has_mask = False\n",
    "        \n",
    "\n",
    "        \n",
    "        # store the labels\n",
    "        path = os.path.basename(self.paths[idx]['img_path'])\n",
    "        ori_label = int(path[0])\n",
    "        \n",
    "\n",
    "        # for training\n",
    "        if ori_label > 2:\n",
    "            label = 1\n",
    "        else:\n",
    "            label = 0\n",
    "        #print(label)\n",
    "\n",
    "        '''\n",
    "        # for testing\n",
    "        if ori_label not in [1]:\n",
    "            label = 0\n",
    "        else:\n",
    "            label = 1\n",
    "        #print(ori_label, label)\n",
    "        '''\n",
    "        \n",
    "        item = {\n",
    "            'image': im,\n",
    "            'mask': onehot_mask,\n",
    "            'label': label,\n",
    "            'has_mask': has_mask,\n",
    "            'filename': filename,\n",
    "            'cropsize': crop_size\n",
    "        }\n",
    "\n",
    "        \n",
    "        if self.transform:\n",
    "            item = self.transform(item)\n",
    "            \n",
    "            \n",
    "        #print('after transform',np.unique(item['mask']))\n",
    "        \n",
    "        #print(im.shape)\n",
    "        #print(item['mask'])\n",
    "\n",
    "        return item\n",
    "    \n",
    "    \n",
    "    \n",
    "    def load_gradcam_item(self, idx):\n",
    "        \n",
    "        im = Image.open(self.paths[idx]['img_path']).convert(\"RGB\")\n",
    "        item  = self.__getitem__(idx)\n",
    "        input_tensor, label = item['image'], item['label']\n",
    "        crop_size = item['cropsize']\n",
    "        \n",
    "        # store the filename (including .png)\n",
    "        filename = os.path.basename(self.paths[idx]['img_path'])\n",
    "        \n",
    "        gradcam_item = {\n",
    "            'image':im,\n",
    "            'tensor':input_tensor,\n",
    "            'label':label,\n",
    "            'filename':filename,\n",
    "            'cropsize': crop_size\n",
    "            }\n",
    "        \n",
    "        return gradcam_item\n",
    "    \n",
    "    \n",
    "    #def update_mask(self, idx):\n",
    "        \n",
    "        \n",
    "        \n",
    "\n",
    "    \n",
    "    def index2label (self):\n",
    "        has_mask_class = [] # 0: no mask; 1: has mask\n",
    "        for path in self.paths:\n",
    "            if len(path) > 1:\n",
    "                # has mask\n",
    "                has_mask_class.append(1)\n",
    "            else:\n",
    "                has_mask_class.append(0)\n",
    "        \n",
    "        return has_mask_class # which index has/doesnt have mask"
   ]
  },
  {
   "cell_type": "code",
   "execution_count": 120,
   "id": "0603bdbd-ac4f-4eb6-ae10-ce38867ae37c",
   "metadata": {
    "tags": []
   },
   "outputs": [],
   "source": [
    "class MixedBatchSampler(Sampler):\n",
    "    def __init__(self, dataset, batch_size):\n",
    "\n",
    "        self.batches = []\n",
    "        self.label_dict = {}\n",
    "        self.unique_labels = np.array([0,1])\n",
    "        self.batch_size = batch_size\n",
    "        self.dataset = dataset\n",
    "        self.class_size = {}\n",
    "        self.class_batch_size = []\n",
    "        \n",
    "        \n",
    "        # filter out the labels\n",
    "        class_distribution = self.dataset.index2label() # correspond index to class\n",
    "        \n",
    "        \n",
    "        # for label in unique labels\n",
    "        for this_label in self.unique_labels:\n",
    "            # get indices of label in original labels        \n",
    "            indices_list = np.squeeze(np.where(class_distribution==this_label))\n",
    "            self.label_dict[this_label] = list(indices_list)\n",
    "            self.class_size[this_label] = len(indices_list)\n",
    "            \n",
    "        # calculate the portion of each class\n",
    "        class0_size = int((self.class_size[0]/len(self.dataset))*self.batch_size)\n",
    "        self.class_batch_size.append(class0_size)\n",
    "        self.class_batch_size.append(self.batch_size - class0_size)\n",
    "        \n",
    "        self.sampler_len = min(int(len(self.label_dict[0])/self.class_batch_size[0]), int(len(self.label_dict[1])/self.class_batch_size[1]))\n",
    "        \n",
    "        #print(self.label_dict)\n",
    "        \n",
    "        \n",
    "        \n",
    "          \n",
    "    def __len__(self):                \n",
    "        return self.sampler_len  #(len(self.dataset) // self.batch_size) * self.batch_size # residual just drop them\n",
    "    \n",
    "    \n",
    "    \n",
    "            \n",
    "    def __iter__(self):\n",
    "\n",
    "        # reset dataset\n",
    "        self.data = copy.deepcopy(self.label_dict)\n",
    "\n",
    "        # shuffle each class list for each iteration\n",
    "        for k in self.data:\n",
    "            np.random.shuffle(self.data[k])\n",
    "        \n",
    "        batches = []\n",
    "\n",
    "        # for each batch\n",
    "        for i in range(0, self.sampler_len): #fully divided number of batches\n",
    "\n",
    "            batch = []\n",
    "            np.random.shuffle(self.unique_labels)\n",
    "            # for each unique label \n",
    "            for k in self.unique_labels:\n",
    "                # if more samples than required are available\n",
    "                if len(self.data[k]) >= self.class_batch_size[k]:   \n",
    "                    # get the next n samples\n",
    "                    batch.extend(self.data[k][:self.class_batch_size[k]])\n",
    "                    # and delete them from the dataset\n",
    "                    del self.data[k][:self.class_batch_size[k]]\n",
    "                \n",
    "            # if enough images are available for one batch: append\n",
    "            if len(batch) == self.batch_size:\n",
    "                #random.shuffle(batch)\n",
    "                batches.append(batch)\n",
    "                #print(batch)\n",
    "            \n",
    "        return iter(batches)"
   ]
  },
  {
   "cell_type": "code",
   "execution_count": 9,
   "id": "0242acc3",
   "metadata": {
    "tags": []
   },
   "outputs": [
    {
     "data": {
      "text/plain": [
       "'\\nfor i in path_combine:\\n    im = Image.open(i[\\'img_path\\']).convert(\"RGB\")\\n    img_w, img_h= im.size\\n    im = transforms.functional.to_tensor(im)\\n    print(img_w, img_h)\\n    print(im.shape)\\n    break\\n'"
      ]
     },
     "execution_count": 9,
     "metadata": {},
     "output_type": "execute_result"
    }
   ],
   "source": [
    "'''\n",
    "for i in path_combine:\n",
    "    im = Image.open(i['img_path']).convert(\"RGB\")\n",
    "    img_w, img_h= im.size\n",
    "    im = transforms.functional.to_tensor(im)\n",
    "    print(img_w, img_h)\n",
    "    print(im.shape)\n",
    "    break\n",
    "'''"
   ]
  },
  {
   "cell_type": "code",
   "execution_count": 121,
   "id": "8fc24146",
   "metadata": {
    "tags": []
   },
   "outputs": [
    {
     "name": "stdout",
     "output_type": "stream",
     "text": [
      "LOADERS: train, test, validation: <torch.utils.data.dataloader.DataLoader object at 0x0000020052C70290> <torch.utils.data.dataloader.DataLoader object at 0x0000020052C0B110> <torch.utils.data.dataloader.DataLoader object at 0x0000020052C5E250>\n"
     ]
    }
   ],
   "source": [
    "train_ds = MyDataset(train_path_combine, 'train')\n",
    "test_ds = MyDataset(test_path_combine, 'test')\n",
    "val_ds = MyDataset(val_path_combine, 'val')\n",
    "\n",
    "#print(train_ds.__len__())\n",
    "#print(val_ds.__len__())\n",
    "    \n",
    "mix_b_sampler = MixedBatchSampler(train_ds, batch)  # for training\n",
    "\n",
    "train_loader = DataLoader(train_ds, batch_sampler = mix_b_sampler) # train\n",
    "test_loader = DataLoader(test_ds, batch_size=batch, shuffle=False) # test\n",
    "val_loader = DataLoader(val_ds, batch_size=8, shuffle=False) # val\n",
    "\n",
    "\n",
    "print(\"LOADERS: train, test, validation:\", train_loader, test_loader, val_loader)"
   ]
  },
  {
   "cell_type": "code",
   "execution_count": 11,
   "id": "96ca6359-cc4a-457b-ba94-6b1eb2d3b51c",
   "metadata": {
    "tags": []
   },
   "outputs": [],
   "source": [
    "for _, item in enumerate(train_ds):\n",
    "    item\n",
    "    break"
   ]
  },
  {
   "cell_type": "code",
   "execution_count": 12,
   "id": "fd9ce1c6",
   "metadata": {
    "tags": []
   },
   "outputs": [
    {
     "data": {
      "text/plain": [
       "'\\nfor _, item in enumerate(train_ds):\\n    item[\\'mask\\'].show()\\n    channel = item[\\'mask\\'].convert(\"L\")\\n    plt.imshow(channel)\\n    plt.show()\\n    #for i in item[\\'mask\\']:\\n        #i.show()\\n        \\n    break\\n'"
      ]
     },
     "execution_count": 12,
     "metadata": {},
     "output_type": "execute_result"
    }
   ],
   "source": [
    "'''\n",
    "for _, item in enumerate(train_ds):\n",
    "    item['mask'].show()\n",
    "    channel = item['mask'].convert(\"L\")\n",
    "    plt.imshow(channel)\n",
    "    plt.show()\n",
    "    #for i in item['mask']:\n",
    "        #i.show()\n",
    "        \n",
    "    break\n",
    "'''\n"
   ]
  },
  {
   "cell_type": "code",
   "execution_count": 13,
   "id": "01b109b6",
   "metadata": {
    "tags": []
   },
   "outputs": [
    {
     "data": {
      "text/plain": [
       "\"\\nfor _, item in enumerate(train_loader):\\n    #print(item['mask'][0])\\n    for i in item['mask'][0]:\\n        i.show()\\n    break\\n\""
      ]
     },
     "execution_count": 13,
     "metadata": {},
     "output_type": "execute_result"
    }
   ],
   "source": [
    "'''\n",
    "for _, item in enumerate(train_loader):\n",
    "    #print(item['mask'][0])\n",
    "    for i in item['mask'][0]:\n",
    "        i.show()\n",
    "    break\n",
    "'''"
   ]
  },
  {
   "cell_type": "code",
   "execution_count": 10,
   "id": "036e627a",
   "metadata": {
    "tags": []
   },
   "outputs": [],
   "source": [
    "'''\n",
    "model = smp.UnetPlusPlus(\n",
    "                        encoder_name=\"efficientnet-b0\",        # choose encoder, e.g. mobilenet_v2 or efficientnet-b7\n",
    "                        encoder_weights=\"imagenet\",\n",
    "                        in_channels=3,          # model input channels (1 for gray-scale images, 3 for RGB, etc.)\n",
    "                        classes=5,         # model output channels (number of classes in your dataset)\n",
    "                        aux_params = dict(\n",
    "                                        pooling=\"avg\",\n",
    "                                        dropout=0.5,\n",
    "                                        classes = 2\n",
    "                        )\n",
    "                    )\n",
    "\n",
    "\n",
    "'''\n",
    "model = smp.FPN(\n",
    "                        encoder_name=\"resnext101_32x8d\",        # choose encoder, e.g. mobilenet_v2 or efficientnet-b7\n",
    "                        encoder_weights=\"imagenet\",\n",
    "                        in_channels=3,          # model input channels (1 for gray-scale images, 3 for RGB, etc.)\n",
    "                        classes=5,         # model output channels (number of classes in your dataset)\n",
    "                        aux_params = dict(\n",
    "                                        pooling=\"avg\",\n",
    "                                        dropout=0.5,\n",
    "                                        classes = 2\n",
    "                        )\n",
    "                    )"
   ]
  },
  {
   "cell_type": "code",
   "execution_count": 11,
   "id": "3e3e307e",
   "metadata": {
    "tags": []
   },
   "outputs": [
    {
     "name": "stdout",
     "output_type": "stream",
     "text": [
      "FPN(\n",
      "  (encoder): ResNetEncoder(\n",
      "    (conv1): Conv2d(3, 64, kernel_size=(7, 7), stride=(2, 2), padding=(3, 3), bias=False)\n",
      "    (bn1): BatchNorm2d(64, eps=1e-05, momentum=0.1, affine=True, track_running_stats=True)\n",
      "    (relu): ReLU(inplace=True)\n",
      "    (maxpool): MaxPool2d(kernel_size=3, stride=2, padding=1, dilation=1, ceil_mode=False)\n",
      "    (layer1): Sequential(\n",
      "      (0): Bottleneck(\n",
      "        (conv1): Conv2d(64, 256, kernel_size=(1, 1), stride=(1, 1), bias=False)\n",
      "        (bn1): BatchNorm2d(256, eps=1e-05, momentum=0.1, affine=True, track_running_stats=True)\n",
      "        (conv2): Conv2d(256, 256, kernel_size=(3, 3), stride=(1, 1), padding=(1, 1), groups=32, bias=False)\n",
      "        (bn2): BatchNorm2d(256, eps=1e-05, momentum=0.1, affine=True, track_running_stats=True)\n",
      "        (conv3): Conv2d(256, 256, kernel_size=(1, 1), stride=(1, 1), bias=False)\n",
      "        (bn3): BatchNorm2d(256, eps=1e-05, momentum=0.1, affine=True, track_running_stats=True)\n",
      "        (relu): ReLU(inplace=True)\n",
      "        (downsample): Sequential(\n",
      "          (0): Conv2d(64, 256, kernel_size=(1, 1), stride=(1, 1), bias=False)\n",
      "          (1): BatchNorm2d(256, eps=1e-05, momentum=0.1, affine=True, track_running_stats=True)\n",
      "        )\n",
      "      )\n",
      "      (1): Bottleneck(\n",
      "        (conv1): Conv2d(256, 256, kernel_size=(1, 1), stride=(1, 1), bias=False)\n",
      "        (bn1): BatchNorm2d(256, eps=1e-05, momentum=0.1, affine=True, track_running_stats=True)\n",
      "        (conv2): Conv2d(256, 256, kernel_size=(3, 3), stride=(1, 1), padding=(1, 1), groups=32, bias=False)\n",
      "        (bn2): BatchNorm2d(256, eps=1e-05, momentum=0.1, affine=True, track_running_stats=True)\n",
      "        (conv3): Conv2d(256, 256, kernel_size=(1, 1), stride=(1, 1), bias=False)\n",
      "        (bn3): BatchNorm2d(256, eps=1e-05, momentum=0.1, affine=True, track_running_stats=True)\n",
      "        (relu): ReLU(inplace=True)\n",
      "      )\n",
      "      (2): Bottleneck(\n",
      "        (conv1): Conv2d(256, 256, kernel_size=(1, 1), stride=(1, 1), bias=False)\n",
      "        (bn1): BatchNorm2d(256, eps=1e-05, momentum=0.1, affine=True, track_running_stats=True)\n",
      "        (conv2): Conv2d(256, 256, kernel_size=(3, 3), stride=(1, 1), padding=(1, 1), groups=32, bias=False)\n",
      "        (bn2): BatchNorm2d(256, eps=1e-05, momentum=0.1, affine=True, track_running_stats=True)\n",
      "        (conv3): Conv2d(256, 256, kernel_size=(1, 1), stride=(1, 1), bias=False)\n",
      "        (bn3): BatchNorm2d(256, eps=1e-05, momentum=0.1, affine=True, track_running_stats=True)\n",
      "        (relu): ReLU(inplace=True)\n",
      "      )\n",
      "    )\n",
      "    (layer2): Sequential(\n",
      "      (0): Bottleneck(\n",
      "        (conv1): Conv2d(256, 512, kernel_size=(1, 1), stride=(1, 1), bias=False)\n",
      "        (bn1): BatchNorm2d(512, eps=1e-05, momentum=0.1, affine=True, track_running_stats=True)\n",
      "        (conv2): Conv2d(512, 512, kernel_size=(3, 3), stride=(2, 2), padding=(1, 1), groups=32, bias=False)\n",
      "        (bn2): BatchNorm2d(512, eps=1e-05, momentum=0.1, affine=True, track_running_stats=True)\n",
      "        (conv3): Conv2d(512, 512, kernel_size=(1, 1), stride=(1, 1), bias=False)\n",
      "        (bn3): BatchNorm2d(512, eps=1e-05, momentum=0.1, affine=True, track_running_stats=True)\n",
      "        (relu): ReLU(inplace=True)\n",
      "        (downsample): Sequential(\n",
      "          (0): Conv2d(256, 512, kernel_size=(1, 1), stride=(2, 2), bias=False)\n",
      "          (1): BatchNorm2d(512, eps=1e-05, momentum=0.1, affine=True, track_running_stats=True)\n",
      "        )\n",
      "      )\n",
      "      (1): Bottleneck(\n",
      "        (conv1): Conv2d(512, 512, kernel_size=(1, 1), stride=(1, 1), bias=False)\n",
      "        (bn1): BatchNorm2d(512, eps=1e-05, momentum=0.1, affine=True, track_running_stats=True)\n",
      "        (conv2): Conv2d(512, 512, kernel_size=(3, 3), stride=(1, 1), padding=(1, 1), groups=32, bias=False)\n",
      "        (bn2): BatchNorm2d(512, eps=1e-05, momentum=0.1, affine=True, track_running_stats=True)\n",
      "        (conv3): Conv2d(512, 512, kernel_size=(1, 1), stride=(1, 1), bias=False)\n",
      "        (bn3): BatchNorm2d(512, eps=1e-05, momentum=0.1, affine=True, track_running_stats=True)\n",
      "        (relu): ReLU(inplace=True)\n",
      "      )\n",
      "      (2): Bottleneck(\n",
      "        (conv1): Conv2d(512, 512, kernel_size=(1, 1), stride=(1, 1), bias=False)\n",
      "        (bn1): BatchNorm2d(512, eps=1e-05, momentum=0.1, affine=True, track_running_stats=True)\n",
      "        (conv2): Conv2d(512, 512, kernel_size=(3, 3), stride=(1, 1), padding=(1, 1), groups=32, bias=False)\n",
      "        (bn2): BatchNorm2d(512, eps=1e-05, momentum=0.1, affine=True, track_running_stats=True)\n",
      "        (conv3): Conv2d(512, 512, kernel_size=(1, 1), stride=(1, 1), bias=False)\n",
      "        (bn3): BatchNorm2d(512, eps=1e-05, momentum=0.1, affine=True, track_running_stats=True)\n",
      "        (relu): ReLU(inplace=True)\n",
      "      )\n",
      "      (3): Bottleneck(\n",
      "        (conv1): Conv2d(512, 512, kernel_size=(1, 1), stride=(1, 1), bias=False)\n",
      "        (bn1): BatchNorm2d(512, eps=1e-05, momentum=0.1, affine=True, track_running_stats=True)\n",
      "        (conv2): Conv2d(512, 512, kernel_size=(3, 3), stride=(1, 1), padding=(1, 1), groups=32, bias=False)\n",
      "        (bn2): BatchNorm2d(512, eps=1e-05, momentum=0.1, affine=True, track_running_stats=True)\n",
      "        (conv3): Conv2d(512, 512, kernel_size=(1, 1), stride=(1, 1), bias=False)\n",
      "        (bn3): BatchNorm2d(512, eps=1e-05, momentum=0.1, affine=True, track_running_stats=True)\n",
      "        (relu): ReLU(inplace=True)\n",
      "      )\n",
      "    )\n",
      "    (layer3): Sequential(\n",
      "      (0): Bottleneck(\n",
      "        (conv1): Conv2d(512, 1024, kernel_size=(1, 1), stride=(1, 1), bias=False)\n",
      "        (bn1): BatchNorm2d(1024, eps=1e-05, momentum=0.1, affine=True, track_running_stats=True)\n",
      "        (conv2): Conv2d(1024, 1024, kernel_size=(3, 3), stride=(2, 2), padding=(1, 1), groups=32, bias=False)\n",
      "        (bn2): BatchNorm2d(1024, eps=1e-05, momentum=0.1, affine=True, track_running_stats=True)\n",
      "        (conv3): Conv2d(1024, 1024, kernel_size=(1, 1), stride=(1, 1), bias=False)\n",
      "        (bn3): BatchNorm2d(1024, eps=1e-05, momentum=0.1, affine=True, track_running_stats=True)\n",
      "        (relu): ReLU(inplace=True)\n",
      "        (downsample): Sequential(\n",
      "          (0): Conv2d(512, 1024, kernel_size=(1, 1), stride=(2, 2), bias=False)\n",
      "          (1): BatchNorm2d(1024, eps=1e-05, momentum=0.1, affine=True, track_running_stats=True)\n",
      "        )\n",
      "      )\n",
      "      (1): Bottleneck(\n",
      "        (conv1): Conv2d(1024, 1024, kernel_size=(1, 1), stride=(1, 1), bias=False)\n",
      "        (bn1): BatchNorm2d(1024, eps=1e-05, momentum=0.1, affine=True, track_running_stats=True)\n",
      "        (conv2): Conv2d(1024, 1024, kernel_size=(3, 3), stride=(1, 1), padding=(1, 1), groups=32, bias=False)\n",
      "        (bn2): BatchNorm2d(1024, eps=1e-05, momentum=0.1, affine=True, track_running_stats=True)\n",
      "        (conv3): Conv2d(1024, 1024, kernel_size=(1, 1), stride=(1, 1), bias=False)\n",
      "        (bn3): BatchNorm2d(1024, eps=1e-05, momentum=0.1, affine=True, track_running_stats=True)\n",
      "        (relu): ReLU(inplace=True)\n",
      "      )\n",
      "      (2): Bottleneck(\n",
      "        (conv1): Conv2d(1024, 1024, kernel_size=(1, 1), stride=(1, 1), bias=False)\n",
      "        (bn1): BatchNorm2d(1024, eps=1e-05, momentum=0.1, affine=True, track_running_stats=True)\n",
      "        (conv2): Conv2d(1024, 1024, kernel_size=(3, 3), stride=(1, 1), padding=(1, 1), groups=32, bias=False)\n",
      "        (bn2): BatchNorm2d(1024, eps=1e-05, momentum=0.1, affine=True, track_running_stats=True)\n",
      "        (conv3): Conv2d(1024, 1024, kernel_size=(1, 1), stride=(1, 1), bias=False)\n",
      "        (bn3): BatchNorm2d(1024, eps=1e-05, momentum=0.1, affine=True, track_running_stats=True)\n",
      "        (relu): ReLU(inplace=True)\n",
      "      )\n",
      "      (3): Bottleneck(\n",
      "        (conv1): Conv2d(1024, 1024, kernel_size=(1, 1), stride=(1, 1), bias=False)\n",
      "        (bn1): BatchNorm2d(1024, eps=1e-05, momentum=0.1, affine=True, track_running_stats=True)\n",
      "        (conv2): Conv2d(1024, 1024, kernel_size=(3, 3), stride=(1, 1), padding=(1, 1), groups=32, bias=False)\n",
      "        (bn2): BatchNorm2d(1024, eps=1e-05, momentum=0.1, affine=True, track_running_stats=True)\n",
      "        (conv3): Conv2d(1024, 1024, kernel_size=(1, 1), stride=(1, 1), bias=False)\n",
      "        (bn3): BatchNorm2d(1024, eps=1e-05, momentum=0.1, affine=True, track_running_stats=True)\n",
      "        (relu): ReLU(inplace=True)\n",
      "      )\n",
      "      (4): Bottleneck(\n",
      "        (conv1): Conv2d(1024, 1024, kernel_size=(1, 1), stride=(1, 1), bias=False)\n",
      "        (bn1): BatchNorm2d(1024, eps=1e-05, momentum=0.1, affine=True, track_running_stats=True)\n",
      "        (conv2): Conv2d(1024, 1024, kernel_size=(3, 3), stride=(1, 1), padding=(1, 1), groups=32, bias=False)\n",
      "        (bn2): BatchNorm2d(1024, eps=1e-05, momentum=0.1, affine=True, track_running_stats=True)\n",
      "        (conv3): Conv2d(1024, 1024, kernel_size=(1, 1), stride=(1, 1), bias=False)\n",
      "        (bn3): BatchNorm2d(1024, eps=1e-05, momentum=0.1, affine=True, track_running_stats=True)\n",
      "        (relu): ReLU(inplace=True)\n",
      "      )\n",
      "      (5): Bottleneck(\n",
      "        (conv1): Conv2d(1024, 1024, kernel_size=(1, 1), stride=(1, 1), bias=False)\n",
      "        (bn1): BatchNorm2d(1024, eps=1e-05, momentum=0.1, affine=True, track_running_stats=True)\n",
      "        (conv2): Conv2d(1024, 1024, kernel_size=(3, 3), stride=(1, 1), padding=(1, 1), groups=32, bias=False)\n",
      "        (bn2): BatchNorm2d(1024, eps=1e-05, momentum=0.1, affine=True, track_running_stats=True)\n",
      "        (conv3): Conv2d(1024, 1024, kernel_size=(1, 1), stride=(1, 1), bias=False)\n",
      "        (bn3): BatchNorm2d(1024, eps=1e-05, momentum=0.1, affine=True, track_running_stats=True)\n",
      "        (relu): ReLU(inplace=True)\n",
      "      )\n",
      "      (6): Bottleneck(\n",
      "        (conv1): Conv2d(1024, 1024, kernel_size=(1, 1), stride=(1, 1), bias=False)\n",
      "        (bn1): BatchNorm2d(1024, eps=1e-05, momentum=0.1, affine=True, track_running_stats=True)\n",
      "        (conv2): Conv2d(1024, 1024, kernel_size=(3, 3), stride=(1, 1), padding=(1, 1), groups=32, bias=False)\n",
      "        (bn2): BatchNorm2d(1024, eps=1e-05, momentum=0.1, affine=True, track_running_stats=True)\n",
      "        (conv3): Conv2d(1024, 1024, kernel_size=(1, 1), stride=(1, 1), bias=False)\n",
      "        (bn3): BatchNorm2d(1024, eps=1e-05, momentum=0.1, affine=True, track_running_stats=True)\n",
      "        (relu): ReLU(inplace=True)\n",
      "      )\n",
      "      (7): Bottleneck(\n",
      "        (conv1): Conv2d(1024, 1024, kernel_size=(1, 1), stride=(1, 1), bias=False)\n",
      "        (bn1): BatchNorm2d(1024, eps=1e-05, momentum=0.1, affine=True, track_running_stats=True)\n",
      "        (conv2): Conv2d(1024, 1024, kernel_size=(3, 3), stride=(1, 1), padding=(1, 1), groups=32, bias=False)\n",
      "        (bn2): BatchNorm2d(1024, eps=1e-05, momentum=0.1, affine=True, track_running_stats=True)\n",
      "        (conv3): Conv2d(1024, 1024, kernel_size=(1, 1), stride=(1, 1), bias=False)\n",
      "        (bn3): BatchNorm2d(1024, eps=1e-05, momentum=0.1, affine=True, track_running_stats=True)\n",
      "        (relu): ReLU(inplace=True)\n",
      "      )\n",
      "      (8): Bottleneck(\n",
      "        (conv1): Conv2d(1024, 1024, kernel_size=(1, 1), stride=(1, 1), bias=False)\n",
      "        (bn1): BatchNorm2d(1024, eps=1e-05, momentum=0.1, affine=True, track_running_stats=True)\n",
      "        (conv2): Conv2d(1024, 1024, kernel_size=(3, 3), stride=(1, 1), padding=(1, 1), groups=32, bias=False)\n",
      "        (bn2): BatchNorm2d(1024, eps=1e-05, momentum=0.1, affine=True, track_running_stats=True)\n",
      "        (conv3): Conv2d(1024, 1024, kernel_size=(1, 1), stride=(1, 1), bias=False)\n",
      "        (bn3): BatchNorm2d(1024, eps=1e-05, momentum=0.1, affine=True, track_running_stats=True)\n",
      "        (relu): ReLU(inplace=True)\n",
      "      )\n",
      "      (9): Bottleneck(\n",
      "        (conv1): Conv2d(1024, 1024, kernel_size=(1, 1), stride=(1, 1), bias=False)\n",
      "        (bn1): BatchNorm2d(1024, eps=1e-05, momentum=0.1, affine=True, track_running_stats=True)\n",
      "        (conv2): Conv2d(1024, 1024, kernel_size=(3, 3), stride=(1, 1), padding=(1, 1), groups=32, bias=False)\n",
      "        (bn2): BatchNorm2d(1024, eps=1e-05, momentum=0.1, affine=True, track_running_stats=True)\n",
      "        (conv3): Conv2d(1024, 1024, kernel_size=(1, 1), stride=(1, 1), bias=False)\n",
      "        (bn3): BatchNorm2d(1024, eps=1e-05, momentum=0.1, affine=True, track_running_stats=True)\n",
      "        (relu): ReLU(inplace=True)\n",
      "      )\n",
      "      (10): Bottleneck(\n",
      "        (conv1): Conv2d(1024, 1024, kernel_size=(1, 1), stride=(1, 1), bias=False)\n",
      "        (bn1): BatchNorm2d(1024, eps=1e-05, momentum=0.1, affine=True, track_running_stats=True)\n",
      "        (conv2): Conv2d(1024, 1024, kernel_size=(3, 3), stride=(1, 1), padding=(1, 1), groups=32, bias=False)\n",
      "        (bn2): BatchNorm2d(1024, eps=1e-05, momentum=0.1, affine=True, track_running_stats=True)\n",
      "        (conv3): Conv2d(1024, 1024, kernel_size=(1, 1), stride=(1, 1), bias=False)\n",
      "        (bn3): BatchNorm2d(1024, eps=1e-05, momentum=0.1, affine=True, track_running_stats=True)\n",
      "        (relu): ReLU(inplace=True)\n",
      "      )\n",
      "      (11): Bottleneck(\n",
      "        (conv1): Conv2d(1024, 1024, kernel_size=(1, 1), stride=(1, 1), bias=False)\n",
      "        (bn1): BatchNorm2d(1024, eps=1e-05, momentum=0.1, affine=True, track_running_stats=True)\n",
      "        (conv2): Conv2d(1024, 1024, kernel_size=(3, 3), stride=(1, 1), padding=(1, 1), groups=32, bias=False)\n",
      "        (bn2): BatchNorm2d(1024, eps=1e-05, momentum=0.1, affine=True, track_running_stats=True)\n",
      "        (conv3): Conv2d(1024, 1024, kernel_size=(1, 1), stride=(1, 1), bias=False)\n",
      "        (bn3): BatchNorm2d(1024, eps=1e-05, momentum=0.1, affine=True, track_running_stats=True)\n",
      "        (relu): ReLU(inplace=True)\n",
      "      )\n",
      "      (12): Bottleneck(\n",
      "        (conv1): Conv2d(1024, 1024, kernel_size=(1, 1), stride=(1, 1), bias=False)\n",
      "        (bn1): BatchNorm2d(1024, eps=1e-05, momentum=0.1, affine=True, track_running_stats=True)\n",
      "        (conv2): Conv2d(1024, 1024, kernel_size=(3, 3), stride=(1, 1), padding=(1, 1), groups=32, bias=False)\n",
      "        (bn2): BatchNorm2d(1024, eps=1e-05, momentum=0.1, affine=True, track_running_stats=True)\n",
      "        (conv3): Conv2d(1024, 1024, kernel_size=(1, 1), stride=(1, 1), bias=False)\n",
      "        (bn3): BatchNorm2d(1024, eps=1e-05, momentum=0.1, affine=True, track_running_stats=True)\n",
      "        (relu): ReLU(inplace=True)\n",
      "      )\n",
      "      (13): Bottleneck(\n",
      "        (conv1): Conv2d(1024, 1024, kernel_size=(1, 1), stride=(1, 1), bias=False)\n",
      "        (bn1): BatchNorm2d(1024, eps=1e-05, momentum=0.1, affine=True, track_running_stats=True)\n",
      "        (conv2): Conv2d(1024, 1024, kernel_size=(3, 3), stride=(1, 1), padding=(1, 1), groups=32, bias=False)\n",
      "        (bn2): BatchNorm2d(1024, eps=1e-05, momentum=0.1, affine=True, track_running_stats=True)\n",
      "        (conv3): Conv2d(1024, 1024, kernel_size=(1, 1), stride=(1, 1), bias=False)\n",
      "        (bn3): BatchNorm2d(1024, eps=1e-05, momentum=0.1, affine=True, track_running_stats=True)\n",
      "        (relu): ReLU(inplace=True)\n",
      "      )\n",
      "      (14): Bottleneck(\n",
      "        (conv1): Conv2d(1024, 1024, kernel_size=(1, 1), stride=(1, 1), bias=False)\n",
      "        (bn1): BatchNorm2d(1024, eps=1e-05, momentum=0.1, affine=True, track_running_stats=True)\n",
      "        (conv2): Conv2d(1024, 1024, kernel_size=(3, 3), stride=(1, 1), padding=(1, 1), groups=32, bias=False)\n",
      "        (bn2): BatchNorm2d(1024, eps=1e-05, momentum=0.1, affine=True, track_running_stats=True)\n",
      "        (conv3): Conv2d(1024, 1024, kernel_size=(1, 1), stride=(1, 1), bias=False)\n",
      "        (bn3): BatchNorm2d(1024, eps=1e-05, momentum=0.1, affine=True, track_running_stats=True)\n",
      "        (relu): ReLU(inplace=True)\n",
      "      )\n",
      "      (15): Bottleneck(\n",
      "        (conv1): Conv2d(1024, 1024, kernel_size=(1, 1), stride=(1, 1), bias=False)\n",
      "        (bn1): BatchNorm2d(1024, eps=1e-05, momentum=0.1, affine=True, track_running_stats=True)\n",
      "        (conv2): Conv2d(1024, 1024, kernel_size=(3, 3), stride=(1, 1), padding=(1, 1), groups=32, bias=False)\n",
      "        (bn2): BatchNorm2d(1024, eps=1e-05, momentum=0.1, affine=True, track_running_stats=True)\n",
      "        (conv3): Conv2d(1024, 1024, kernel_size=(1, 1), stride=(1, 1), bias=False)\n",
      "        (bn3): BatchNorm2d(1024, eps=1e-05, momentum=0.1, affine=True, track_running_stats=True)\n",
      "        (relu): ReLU(inplace=True)\n",
      "      )\n",
      "      (16): Bottleneck(\n",
      "        (conv1): Conv2d(1024, 1024, kernel_size=(1, 1), stride=(1, 1), bias=False)\n",
      "        (bn1): BatchNorm2d(1024, eps=1e-05, momentum=0.1, affine=True, track_running_stats=True)\n",
      "        (conv2): Conv2d(1024, 1024, kernel_size=(3, 3), stride=(1, 1), padding=(1, 1), groups=32, bias=False)\n",
      "        (bn2): BatchNorm2d(1024, eps=1e-05, momentum=0.1, affine=True, track_running_stats=True)\n",
      "        (conv3): Conv2d(1024, 1024, kernel_size=(1, 1), stride=(1, 1), bias=False)\n",
      "        (bn3): BatchNorm2d(1024, eps=1e-05, momentum=0.1, affine=True, track_running_stats=True)\n",
      "        (relu): ReLU(inplace=True)\n",
      "      )\n",
      "      (17): Bottleneck(\n",
      "        (conv1): Conv2d(1024, 1024, kernel_size=(1, 1), stride=(1, 1), bias=False)\n",
      "        (bn1): BatchNorm2d(1024, eps=1e-05, momentum=0.1, affine=True, track_running_stats=True)\n",
      "        (conv2): Conv2d(1024, 1024, kernel_size=(3, 3), stride=(1, 1), padding=(1, 1), groups=32, bias=False)\n",
      "        (bn2): BatchNorm2d(1024, eps=1e-05, momentum=0.1, affine=True, track_running_stats=True)\n",
      "        (conv3): Conv2d(1024, 1024, kernel_size=(1, 1), stride=(1, 1), bias=False)\n",
      "        (bn3): BatchNorm2d(1024, eps=1e-05, momentum=0.1, affine=True, track_running_stats=True)\n",
      "        (relu): ReLU(inplace=True)\n",
      "      )\n",
      "      (18): Bottleneck(\n",
      "        (conv1): Conv2d(1024, 1024, kernel_size=(1, 1), stride=(1, 1), bias=False)\n",
      "        (bn1): BatchNorm2d(1024, eps=1e-05, momentum=0.1, affine=True, track_running_stats=True)\n",
      "        (conv2): Conv2d(1024, 1024, kernel_size=(3, 3), stride=(1, 1), padding=(1, 1), groups=32, bias=False)\n",
      "        (bn2): BatchNorm2d(1024, eps=1e-05, momentum=0.1, affine=True, track_running_stats=True)\n",
      "        (conv3): Conv2d(1024, 1024, kernel_size=(1, 1), stride=(1, 1), bias=False)\n",
      "        (bn3): BatchNorm2d(1024, eps=1e-05, momentum=0.1, affine=True, track_running_stats=True)\n",
      "        (relu): ReLU(inplace=True)\n",
      "      )\n",
      "      (19): Bottleneck(\n",
      "        (conv1): Conv2d(1024, 1024, kernel_size=(1, 1), stride=(1, 1), bias=False)\n",
      "        (bn1): BatchNorm2d(1024, eps=1e-05, momentum=0.1, affine=True, track_running_stats=True)\n",
      "        (conv2): Conv2d(1024, 1024, kernel_size=(3, 3), stride=(1, 1), padding=(1, 1), groups=32, bias=False)\n",
      "        (bn2): BatchNorm2d(1024, eps=1e-05, momentum=0.1, affine=True, track_running_stats=True)\n",
      "        (conv3): Conv2d(1024, 1024, kernel_size=(1, 1), stride=(1, 1), bias=False)\n",
      "        (bn3): BatchNorm2d(1024, eps=1e-05, momentum=0.1, affine=True, track_running_stats=True)\n",
      "        (relu): ReLU(inplace=True)\n",
      "      )\n",
      "      (20): Bottleneck(\n",
      "        (conv1): Conv2d(1024, 1024, kernel_size=(1, 1), stride=(1, 1), bias=False)\n",
      "        (bn1): BatchNorm2d(1024, eps=1e-05, momentum=0.1, affine=True, track_running_stats=True)\n",
      "        (conv2): Conv2d(1024, 1024, kernel_size=(3, 3), stride=(1, 1), padding=(1, 1), groups=32, bias=False)\n",
      "        (bn2): BatchNorm2d(1024, eps=1e-05, momentum=0.1, affine=True, track_running_stats=True)\n",
      "        (conv3): Conv2d(1024, 1024, kernel_size=(1, 1), stride=(1, 1), bias=False)\n",
      "        (bn3): BatchNorm2d(1024, eps=1e-05, momentum=0.1, affine=True, track_running_stats=True)\n",
      "        (relu): ReLU(inplace=True)\n",
      "      )\n",
      "      (21): Bottleneck(\n",
      "        (conv1): Conv2d(1024, 1024, kernel_size=(1, 1), stride=(1, 1), bias=False)\n",
      "        (bn1): BatchNorm2d(1024, eps=1e-05, momentum=0.1, affine=True, track_running_stats=True)\n",
      "        (conv2): Conv2d(1024, 1024, kernel_size=(3, 3), stride=(1, 1), padding=(1, 1), groups=32, bias=False)\n",
      "        (bn2): BatchNorm2d(1024, eps=1e-05, momentum=0.1, affine=True, track_running_stats=True)\n",
      "        (conv3): Conv2d(1024, 1024, kernel_size=(1, 1), stride=(1, 1), bias=False)\n",
      "        (bn3): BatchNorm2d(1024, eps=1e-05, momentum=0.1, affine=True, track_running_stats=True)\n",
      "        (relu): ReLU(inplace=True)\n",
      "      )\n",
      "      (22): Bottleneck(\n",
      "        (conv1): Conv2d(1024, 1024, kernel_size=(1, 1), stride=(1, 1), bias=False)\n",
      "        (bn1): BatchNorm2d(1024, eps=1e-05, momentum=0.1, affine=True, track_running_stats=True)\n",
      "        (conv2): Conv2d(1024, 1024, kernel_size=(3, 3), stride=(1, 1), padding=(1, 1), groups=32, bias=False)\n",
      "        (bn2): BatchNorm2d(1024, eps=1e-05, momentum=0.1, affine=True, track_running_stats=True)\n",
      "        (conv3): Conv2d(1024, 1024, kernel_size=(1, 1), stride=(1, 1), bias=False)\n",
      "        (bn3): BatchNorm2d(1024, eps=1e-05, momentum=0.1, affine=True, track_running_stats=True)\n",
      "        (relu): ReLU(inplace=True)\n",
      "      )\n",
      "    )\n",
      "    (layer4): Sequential(\n",
      "      (0): Bottleneck(\n",
      "        (conv1): Conv2d(1024, 2048, kernel_size=(1, 1), stride=(1, 1), bias=False)\n",
      "        (bn1): BatchNorm2d(2048, eps=1e-05, momentum=0.1, affine=True, track_running_stats=True)\n",
      "        (conv2): Conv2d(2048, 2048, kernel_size=(3, 3), stride=(2, 2), padding=(1, 1), groups=32, bias=False)\n",
      "        (bn2): BatchNorm2d(2048, eps=1e-05, momentum=0.1, affine=True, track_running_stats=True)\n",
      "        (conv3): Conv2d(2048, 2048, kernel_size=(1, 1), stride=(1, 1), bias=False)\n",
      "        (bn3): BatchNorm2d(2048, eps=1e-05, momentum=0.1, affine=True, track_running_stats=True)\n",
      "        (relu): ReLU(inplace=True)\n",
      "        (downsample): Sequential(\n",
      "          (0): Conv2d(1024, 2048, kernel_size=(1, 1), stride=(2, 2), bias=False)\n",
      "          (1): BatchNorm2d(2048, eps=1e-05, momentum=0.1, affine=True, track_running_stats=True)\n",
      "        )\n",
      "      )\n",
      "      (1): Bottleneck(\n",
      "        (conv1): Conv2d(2048, 2048, kernel_size=(1, 1), stride=(1, 1), bias=False)\n",
      "        (bn1): BatchNorm2d(2048, eps=1e-05, momentum=0.1, affine=True, track_running_stats=True)\n",
      "        (conv2): Conv2d(2048, 2048, kernel_size=(3, 3), stride=(1, 1), padding=(1, 1), groups=32, bias=False)\n",
      "        (bn2): BatchNorm2d(2048, eps=1e-05, momentum=0.1, affine=True, track_running_stats=True)\n",
      "        (conv3): Conv2d(2048, 2048, kernel_size=(1, 1), stride=(1, 1), bias=False)\n",
      "        (bn3): BatchNorm2d(2048, eps=1e-05, momentum=0.1, affine=True, track_running_stats=True)\n",
      "        (relu): ReLU(inplace=True)\n",
      "      )\n",
      "      (2): Bottleneck(\n",
      "        (conv1): Conv2d(2048, 2048, kernel_size=(1, 1), stride=(1, 1), bias=False)\n",
      "        (bn1): BatchNorm2d(2048, eps=1e-05, momentum=0.1, affine=True, track_running_stats=True)\n",
      "        (conv2): Conv2d(2048, 2048, kernel_size=(3, 3), stride=(1, 1), padding=(1, 1), groups=32, bias=False)\n",
      "        (bn2): BatchNorm2d(2048, eps=1e-05, momentum=0.1, affine=True, track_running_stats=True)\n",
      "        (conv3): Conv2d(2048, 2048, kernel_size=(1, 1), stride=(1, 1), bias=False)\n",
      "        (bn3): BatchNorm2d(2048, eps=1e-05, momentum=0.1, affine=True, track_running_stats=True)\n",
      "        (relu): ReLU(inplace=True)\n",
      "      )\n",
      "    )\n",
      "  )\n",
      "  (decoder): FPNDecoder(\n",
      "    (p5): Conv2d(2048, 256, kernel_size=(1, 1), stride=(1, 1))\n",
      "    (p4): FPNBlock(\n",
      "      (skip_conv): Conv2d(1024, 256, kernel_size=(1, 1), stride=(1, 1))\n",
      "    )\n",
      "    (p3): FPNBlock(\n",
      "      (skip_conv): Conv2d(512, 256, kernel_size=(1, 1), stride=(1, 1))\n",
      "    )\n",
      "    (p2): FPNBlock(\n",
      "      (skip_conv): Conv2d(256, 256, kernel_size=(1, 1), stride=(1, 1))\n",
      "    )\n",
      "    (seg_blocks): ModuleList(\n",
      "      (0): SegmentationBlock(\n",
      "        (block): Sequential(\n",
      "          (0): Conv3x3GNReLU(\n",
      "            (block): Sequential(\n",
      "              (0): Conv2d(256, 128, kernel_size=(3, 3), stride=(1, 1), padding=(1, 1), bias=False)\n",
      "              (1): GroupNorm(32, 128, eps=1e-05, affine=True)\n",
      "              (2): ReLU(inplace=True)\n",
      "            )\n",
      "          )\n",
      "          (1): Conv3x3GNReLU(\n",
      "            (block): Sequential(\n",
      "              (0): Conv2d(128, 128, kernel_size=(3, 3), stride=(1, 1), padding=(1, 1), bias=False)\n",
      "              (1): GroupNorm(32, 128, eps=1e-05, affine=True)\n",
      "              (2): ReLU(inplace=True)\n",
      "            )\n",
      "          )\n",
      "          (2): Conv3x3GNReLU(\n",
      "            (block): Sequential(\n",
      "              (0): Conv2d(128, 128, kernel_size=(3, 3), stride=(1, 1), padding=(1, 1), bias=False)\n",
      "              (1): GroupNorm(32, 128, eps=1e-05, affine=True)\n",
      "              (2): ReLU(inplace=True)\n",
      "            )\n",
      "          )\n",
      "        )\n",
      "      )\n",
      "      (1): SegmentationBlock(\n",
      "        (block): Sequential(\n",
      "          (0): Conv3x3GNReLU(\n",
      "            (block): Sequential(\n",
      "              (0): Conv2d(256, 128, kernel_size=(3, 3), stride=(1, 1), padding=(1, 1), bias=False)\n",
      "              (1): GroupNorm(32, 128, eps=1e-05, affine=True)\n",
      "              (2): ReLU(inplace=True)\n",
      "            )\n",
      "          )\n",
      "          (1): Conv3x3GNReLU(\n",
      "            (block): Sequential(\n",
      "              (0): Conv2d(128, 128, kernel_size=(3, 3), stride=(1, 1), padding=(1, 1), bias=False)\n",
      "              (1): GroupNorm(32, 128, eps=1e-05, affine=True)\n",
      "              (2): ReLU(inplace=True)\n",
      "            )\n",
      "          )\n",
      "        )\n",
      "      )\n",
      "      (2-3): 2 x SegmentationBlock(\n",
      "        (block): Sequential(\n",
      "          (0): Conv3x3GNReLU(\n",
      "            (block): Sequential(\n",
      "              (0): Conv2d(256, 128, kernel_size=(3, 3), stride=(1, 1), padding=(1, 1), bias=False)\n",
      "              (1): GroupNorm(32, 128, eps=1e-05, affine=True)\n",
      "              (2): ReLU(inplace=True)\n",
      "            )\n",
      "          )\n",
      "        )\n",
      "      )\n",
      "    )\n",
      "    (merge): MergeBlock()\n",
      "    (dropout): Dropout2d(p=0.2, inplace=True)\n",
      "  )\n",
      "  (segmentation_head): SegmentationHead(\n",
      "    (0): Conv2d(128, 5, kernel_size=(1, 1), stride=(1, 1))\n",
      "    (1): UpsamplingBilinear2d(scale_factor=4.0, mode='bilinear')\n",
      "    (2): Activation(\n",
      "      (activation): Identity()\n",
      "    )\n",
      "  )\n",
      "  (classification_head): ClassificationHead(\n",
      "    (0): AdaptiveAvgPool2d(output_size=1)\n",
      "    (1): Flatten(start_dim=1, end_dim=-1)\n",
      "    (2): Dropout(p=0.5, inplace=True)\n",
      "    (3): Linear(in_features=2048, out_features=2, bias=True)\n",
      "    (4): Activation(\n",
      "      (activation): Identity()\n",
      "    )\n",
      "  )\n",
      ")\n"
     ]
    }
   ],
   "source": [
    "print(model)"
   ]
  },
  {
   "cell_type": "code",
   "execution_count": 12,
   "id": "6c795b4e-4b7c-4ad5-b311-6fadb1be30d3",
   "metadata": {
    "tags": []
   },
   "outputs": [],
   "source": [
    "def save_checkpoint(dir_name, epoch, f1):\n",
    "    \n",
    "    # If folder doesn't exists, create it #\n",
    "    if not os.path.isdir(dir_name):\n",
    "        os.mkdir(dir_name)\n",
    "        \n",
    "    filename = \"checkpoint-{:.3f}-{}.pth\".format(f1, epoch)\n",
    "    whole_name = os.path.join(dir_name, filename)\n",
    "    torch.save(model.state_dict(), whole_name)"
   ]
  },
  {
   "cell_type": "code",
   "execution_count": 13,
   "id": "9dd08506-f1d0-4783-8386-052fc0efdca7",
   "metadata": {
    "tags": []
   },
   "outputs": [],
   "source": [
    "def soft_dice_score(\n",
    "    output: torch.Tensor,\n",
    "    target: torch.Tensor,\n",
    "    smooth: float = 0.0,\n",
    "    eps: float = 1e-7,\n",
    "    dims=None,\n",
    ") -> torch.Tensor:\n",
    "    assert output.size() == target.size()\n",
    "    if dims is not None:\n",
    "        intersection = torch.sum(output * target, dim=dims)\n",
    "        cardinality = torch.sum(output + target, dim=dims)\n",
    "    else:\n",
    "        intersection = torch.sum(output * target)\n",
    "        cardinality = torch.sum(output + target)\n",
    "    dice_score = (2.0 * intersection + smooth) / (cardinality + smooth).clamp_min(eps)\n",
    "    return dice_score"
   ]
  },
  {
   "cell_type": "code",
   "execution_count": 14,
   "id": "ad4a7d8d-3f77-4934-abab-f45bf7fa8b18",
   "metadata": {
    "tags": []
   },
   "outputs": [],
   "source": [
    "class DiceLoss(_Loss):\n",
    "    def __init__(\n",
    "        self,\n",
    "        #mode: str,\n",
    "        #classes: Optional[List[int]] = None,\n",
    "        log_loss: bool = False,\n",
    "        from_logits: bool = True,\n",
    "        smooth: float = 0.0,\n",
    "        #ignore_index: Optional[int] = None,\n",
    "        eps: float = 1e-7,\n",
    "    ):\n",
    "        \"\"\"Dice loss for image segmentation task.\n",
    "        It supports binary, multiclass and multilabel cases\n",
    "\n",
    "        Args:\n",
    "            mode: Loss mode 'binary', 'multiclass' or 'multilabel'\n",
    "            classes:  List of classes that contribute in loss computation. By default, all channels are included.\n",
    "            log_loss: If True, loss computed as `- log(dice_coeff)`, otherwise `1 - dice_coeff`\n",
    "            from_logits: If True, assumes input is raw logits\n",
    "            smooth: Smoothness constant for dice coefficient (a)\n",
    "            ignore_index: Label that indicates ignored pixels (does not contribute to loss)\n",
    "            eps: A small epsilon for numerical stability to avoid zero division error\n",
    "                (denominator will be always greater or equal to eps)\n",
    "\n",
    "        Shape\n",
    "             - **y_pred** - torch.Tensor of shape (N, C, H, W)\n",
    "             - **y_true** - torch.Tensor of shape (N, H, W) or (N, C, H, W)\n",
    "\n",
    "        Reference\n",
    "            https://github.com/BloodAxe/pytorch-toolbelt\n",
    "        \"\"\"\n",
    "        #assert mode in {BINARY_MODE, MULTILABEL_MODE, MULTICLASS_MODE}  # only keep those required in multiclass\n",
    "        super(DiceLoss, self).__init__()\n",
    "        #self.mode = mode\n",
    "        #if classes is not None:\n",
    "            #assert mode != BINARY_MODE, \"Masking classes is not supported with mode=binary\"\n",
    "            #classes = to_tensor(classes, dtype=torch.long)\n",
    "\n",
    "        #self.classes = classes\n",
    "        self.from_logits = from_logits\n",
    "        self.smooth = smooth\n",
    "        self.eps = eps\n",
    "        self.log_loss = log_loss\n",
    "        #self.ignore_index = ignore_index\n",
    "\n",
    "    def forward(self, y_pred: torch.Tensor, y_true: torch.Tensor) -> torch.Tensor:\n",
    "\n",
    "        assert y_true.size(0) == y_pred.size(0)\n",
    "\n",
    "        if self.from_logits:\n",
    "            # Apply activations to get [0..1] class probabilities\n",
    "            # Using Log-Exp as this gives more numerically stable result and does not cause vanishing gradient on\n",
    "            # extreme values 0 and 1\n",
    "            #if self.mode == MULTICLASS_MODE:\n",
    "            y_pred = y_pred.log_softmax(dim=1).exp()\n",
    "            #else:\n",
    "                #y_pred = F.logsigmoid(y_pred).exp()\n",
    "                \n",
    "        #print('true:', np.unique(y_true[0].detach().cpu().numpy()))\n",
    "\n",
    "        bs = y_true.size(0)\n",
    "        num_classes = y_pred.size(1)\n",
    "        dims = (0, 2)\n",
    "\n",
    "        '''        \n",
    "        if self.mode == BINARY_MODE:\n",
    "            y_true = y_true.view(bs, 1, -1)\n",
    "            y_pred = y_pred.view(bs, 1, -1)\n",
    "\n",
    "            if self.ignore_index is not None:\n",
    "                mask = y_true != self.ignore_index\n",
    "                y_pred = y_pred * mask\n",
    "                y_true = y_true * mask\n",
    "        '''\n",
    "        \n",
    "        #if self.mode == MULTICLASS_MODE:\n",
    "        y_true = y_true.view(bs, num_classes, -1)\n",
    "        y_pred = y_pred.view(bs, num_classes, -1)\n",
    "\n",
    "        '''\n",
    "        if self.ignore_index is not None:\n",
    "            mask = y_true != self.ignore_index\n",
    "            y_pred = y_pred * mask.unsqueeze(1)\n",
    "\n",
    "            y_true = F.one_hot((y_true * mask).to(torch.long), num_classes)  # N,H*W -> N,H*W, C\n",
    "            y_true = y_true.permute(0, 2, 1) * mask.unsqueeze(1)  # N, C, H*W\n",
    "        else:\n",
    "        '''\n",
    "        #print('true:', np.unique(y_true[0].detach().cpu().numpy()))\n",
    "        #y_true = nn.functional.one_hot(y_true, num_classes)  # N,H*W -> N,H*W, C\n",
    "        #y_true = y_true.permute(0, 2, 1)  # N, C, H*W\n",
    "        \n",
    "       \n",
    "        '''         \n",
    "        if self.mode == MULTILABEL_MODE:\n",
    "            y_true = y_true.view(bs, num_classes, -1)\n",
    "            y_pred = y_pred.view(bs, num_classes, -1)\n",
    "\n",
    "            if self.ignore_index is not None:\n",
    "                mask = y_true != self.ignore_index\n",
    "                y_pred = y_pred * mask\n",
    "                y_true = y_true * mask\n",
    "         '''\n",
    "\n",
    "        #print('pred:', y_pred[0].detach().cpu().numpy())\n",
    "        #print('true:', sum(y_true[0][1].detach().cpu().numpy()))\n",
    "        scores = self.compute_score(y_pred, y_true.type_as(y_pred), smooth=self.smooth, eps=self.eps, dims=dims)\n",
    "\n",
    "        if self.log_loss:\n",
    "            loss = -torch.log(scores.clamp_min(self.eps))\n",
    "        else:\n",
    "            loss = 1.0 - scores\n",
    "\n",
    "        # Dice loss is undefined for non-empty classes\n",
    "        # So we zero contribution of channel that does not have true pixels\n",
    "        # NOTE: A better workaround would be to use loss term `mean(y_pred)`\n",
    "        # for this case, however it will be a modified jaccard loss\n",
    "\n",
    "        mask = y_true.sum(dims) > 0\n",
    "        loss *= mask.to(loss.dtype)\n",
    "\n",
    "        #if self.classes is not None:\n",
    "        #    loss = loss[self.classes]\n",
    "\n",
    "        return self.aggregate_loss(loss)\n",
    "\n",
    "    def aggregate_loss(self, loss):\n",
    "        return loss.mean()\n",
    "\n",
    "    def compute_score(self, output, target, smooth=0.0, eps=1e-7, dims=None) -> torch.Tensor:\n",
    "        return soft_dice_score(output, target, smooth, eps, dims)"
   ]
  },
  {
   "cell_type": "code",
   "execution_count": 15,
   "id": "dd79ead1-adaa-405a-850c-51ed03302a5d",
   "metadata": {
    "tags": []
   },
   "outputs": [],
   "source": [
    "class LovaszLoss(_Loss):\n",
    "    def __init__(self, classes='present', per_image=False, ignore=None):\n",
    "        \"\"\"\n",
    "        Multi-class Lovasz-Softmax loss\n",
    "          classes: 'all' for all, 'present' for classes present in labels, or a list of classes to average.\n",
    "          per_image: compute the loss per image instead of per batch\n",
    "          ignore: void class labels\n",
    "        \"\"\"\n",
    "        super(LovaszLoss, self).__init__()\n",
    "        \n",
    "        self.classes = classes\n",
    "        self.per_image = per_image\n",
    "        self.ignore = ignore\n",
    "        \n",
    "        \n",
    "    def forward(self, preds, labels):\n",
    "        \"\"\"\n",
    "        Multi-class Lovasz-Softmax loss\n",
    "          probas: [B, C, H, W] Variable, class probabilities at each prediction (between 0 and 1).\n",
    "                  Interpreted as binary (sigmoid) output with outputs of size [B, H, W].\n",
    "          labels: [B, H, W] Tensor, ground truth labels (between 0 and C - 1)\n",
    "        \"\"\"\n",
    "\n",
    "        probas = nn.functional.softmax(preds, dim=1) # use softmax to convert predictions to probability form\n",
    "        labels = torch.argmax(labels, dim=1) # original labels [B, C, H, W] -> use argmax to convert it to [B, H, W]\n",
    "        #print(probas.shape)\n",
    "        #print(labels.shape)\n",
    "\n",
    "        if self.per_image:\n",
    "            loss = self.mean(self.lovasz_softmax_flat(*self.flatten_probas(prob.unsqueeze(0), lab.unsqueeze(0), self.ignore), classes=self.classes)\n",
    "                              for prob, lab in zip(probas, labels))\n",
    "        else:\n",
    "            loss = self.lovasz_softmax_flat(*self.flatten_probas(probas, labels, self.ignore), classes=self.classes)\n",
    "        return loss\n",
    "\n",
    "    \n",
    "    \n",
    "    def lovasz_grad(self, gt_sorted):\n",
    "        \"\"\"\n",
    "        Computes gradient of the Lovasz extension w.r.t sorted errors\n",
    "        See Alg. 1 in paper\n",
    "        \"\"\"\n",
    "        p = len(gt_sorted)\n",
    "        gts = gt_sorted.sum()\n",
    "        intersection = gts - gt_sorted.float().cumsum(0)\n",
    "        union = gts + (1 - gt_sorted).float().cumsum(0)\n",
    "        jaccard = 1. - intersection / union\n",
    "        if p > 1: # cover 1-pixel case\n",
    "            jaccard[1:p] = jaccard[1:p] - jaccard[0:-1]\n",
    "        return jaccard\n",
    "    \n",
    "    \n",
    "\n",
    "    def lovasz_softmax_flat(self, probas, labels, classes='present'):\n",
    "        \"\"\"\n",
    "        Multi-class Lovasz-Softmax loss\n",
    "          probas: [P, C] Variable, class probabilities at each prediction (between 0 and 1)\n",
    "          labels: [P] Tensor, ground truth labels (between 0 and C - 1)\n",
    "          classes: 'all' for all, 'present' for classes present in labels, or a list of classes to average.\n",
    "        \"\"\"\n",
    "        if probas.numel() == 0:\n",
    "            # only void pixels, the gradients should be 0\n",
    "            return probas * 0.\n",
    "        C = probas.size(1)\n",
    "        losses = []\n",
    "        class_to_sum = list(range(C)) if classes in ['all', 'present'] else classes\n",
    "        for c in class_to_sum:\n",
    "            fg = (labels == c).float() # foreground for class c\n",
    "            if (classes == 'present' and fg.sum() == 0):\n",
    "                continue\n",
    "            if C == 1:\n",
    "                if len(classes) > 1:\n",
    "                    raise ValueError('Sigmoid output possible only with 1 class')\n",
    "                class_pred = probas[:, 0]\n",
    "            else:\n",
    "                class_pred = probas[:, c]\n",
    "            errors = (Variable(fg) - class_pred).abs()\n",
    "            errors_sorted, perm = torch.sort(errors, 0, descending=True)\n",
    "            perm = perm.data\n",
    "            fg_sorted = fg[perm]\n",
    "            losses.append(torch.dot(errors_sorted, Variable(self.lovasz_grad(fg_sorted))))\n",
    "        return self.mean(losses)\n",
    "\n",
    "\n",
    "    \n",
    "    def flatten_probas(self, probas, labels, ignore=None):\n",
    "        \"\"\"\n",
    "        Flattens predictions in the batch\n",
    "        \"\"\"\n",
    "        if probas.dim() == 3:\n",
    "            # assumes output of a sigmoid layer\n",
    "            B, H, W = probas.size()\n",
    "            probas = probas.view(B, 1, H, W)\n",
    "        B, C, H, W = probas.size()\n",
    "        probas = probas.permute(0, 2, 3, 1).contiguous().view(-1, C)  # B * H * W, C = P, C\n",
    "        labels = labels.view(-1)\n",
    "        if ignore == None:\n",
    "            return probas, labels\n",
    "        valid = (labels != ignore)\n",
    "        vprobas = probas[valid.nonzero().squeeze()]\n",
    "        vlabels = labels[valid]\n",
    "        return vprobas, vlabels\n",
    "\n",
    "    \n",
    "    \n",
    "    def xloss(self, logits, labels, ignore=None):\n",
    "        \"\"\"\n",
    "        Cross entropy loss\n",
    "        \"\"\"\n",
    "        return nn.functional.cross_entropy(logits, Variable(labels), ignore_index=255)\n",
    "    \n",
    "    \n",
    "    # helper functions below\n",
    "    \n",
    "    def isnan(self, x):\n",
    "        return x != x\n",
    "\n",
    "\n",
    "    def mean(self, l, ignore_nan=False, empty=0):\n",
    "        \"\"\"\n",
    "        nanmean compatible with generators.\n",
    "        \"\"\"\n",
    "        l = iter(l)\n",
    "        if ignore_nan:\n",
    "            l = ifilterfalse(self.isnan, l)\n",
    "        try:\n",
    "            n = 1\n",
    "            acc = next(l)\n",
    "        except StopIteration:\n",
    "            if empty == 'raise':\n",
    "                raise ValueError('Empty mean')\n",
    "            return empty\n",
    "        for n, v in enumerate(l, 2):\n",
    "            acc += v\n",
    "        if n == 1:\n",
    "            return acc\n",
    "        return acc / n\n",
    "    "
   ]
  },
  {
   "cell_type": "code",
   "execution_count": 16,
   "id": "53a086ba-03d0-45f9-9af8-1018cb05639e",
   "metadata": {
    "tags": []
   },
   "outputs": [],
   "source": [
    "class_weight_s = torch.tensor([0.1, 0.7, 0.6, 0.5, 1]).to(device)\n",
    "class_weight_c = torch.tensor([0.37, 0.63]).to(device)"
   ]
  },
  {
   "cell_type": "code",
   "execution_count": 17,
   "id": "5b270a36",
   "metadata": {
    "tags": []
   },
   "outputs": [],
   "source": [
    "criterions = {'s_ce': nn.CrossEntropyLoss(weight = class_weight_s), \n",
    "              'c_ce': nn.CrossEntropyLoss(weight = class_weight_c), \n",
    "              'dice': DiceLoss(smooth=1, from_logits=True), \n",
    "              'lovasz': LovaszLoss()} #"
   ]
  },
  {
   "cell_type": "code",
   "execution_count": 18,
   "id": "c4c7c802-8e09-429d-8dff-86d99cf43c87",
   "metadata": {
    "tags": []
   },
   "outputs": [],
   "source": [
    "def lambda_func(current_ep, bound, alpha):\n",
    "    # set total to 40 epochs\n",
    "    center = bound / 2\n",
    "    if current_ep < bound:\n",
    "        return 1.0 / (1.0 + np.exp(alpha*(current_ep-center)))\n",
    "    else:\n",
    "        return 1.0 / (1.0 + np.exp(alpha*(bound-center)))"
   ]
  },
  {
   "cell_type": "code",
   "execution_count": 23,
   "id": "bddb2c26",
   "metadata": {
    "tags": []
   },
   "outputs": [],
   "source": [
    "def train_model(train_data, val_data, model, epochs, dir_name):\n",
    "    \n",
    "    model = model.to(device)\n",
    "    # define the optimization\n",
    "    # Observe that all parameters are being optimized\n",
    "    optimizers = {'sgd': optim.SGD(model.parameters(), lr=0.001), 'adam': optim.Adam(model.parameters(), lr=0.0001)}\n",
    "    # Decay LR by a factor of 0.1 every 7 epochs\n",
    "    lrsdls = {'sgd': torch.optim.lr_scheduler.CosineAnnealingWarmRestarts(optimizers['sgd'], T_0 = 250, eta_min = 0.00001), \n",
    "             'adam': torch.optim.lr_scheduler.CosineAnnealingWarmRestarts(optimizers['adam'], T_0 = 100, eta_min = 0.000001)}\n",
    "    #exp_lr_scheduler = lr_scheduler.StepLR(optimizer_ft, step_size=7, gamma=0.1)\n",
    "    train_dataset_size = len(train_data.dataset)\n",
    "    val_dataset_size = len(val_data.dataset)\n",
    "    #print(dataset_size)\n",
    "    #print(val_dataset_size)\n",
    "    \n",
    "    # default\n",
    "    classification_loss_fn = criterions['c_ce']\n",
    "    segmentation_loss_fn_ce = criterions['s_ce']\n",
    "    segmentation_loss_fn_dice = criterions['dice']\n",
    "    segmentation_loss_fn_lovasz = criterions['lovasz']\n",
    "    optimizer_ft = optimizers['sgd']\n",
    "    lrsdl = lrsdls['sgd']\n",
    "    \n",
    "    \n",
    "    # store the accuracy and loss\n",
    "    train_losses = []\n",
    "    train_accs = []\n",
    "    train_f1s = []\n",
    "    train_recalls = []\n",
    "    train_precisions = []\n",
    "    val_losses = []\n",
    "    val_accs = []\n",
    "    val_f1s = []\n",
    "    val_recalls = []\n",
    "    val_precisions = []\n",
    "    \n",
    "    update = -1 # -1: not started; and then everytime make it %5\n",
    "    \n",
    "    \n",
    "    f1_improve = 0\n",
    "    \n",
    "\n",
    "    # enumerate epochs\n",
    "    for epoch in range(epochs):\n",
    "    #for epoch in range(5):\n",
    "        \n",
    "        # choose the criterion\n",
    "        #if epoch >= 30:\n",
    "            #if epoch%20 == 0:\n",
    "                #criterion = criterions['ce']\n",
    "            #elif epoch%10 == 0:\n",
    "                #criterion = criterions['cdw']\n",
    "            #optimizer_ft = optimizers['adam']\n",
    "            #lrsdl = lrsdls['adam']\n",
    "        \n",
    "        # record the labels and predictions of each epoch\n",
    "        train_preds = []\n",
    "        train_labels = []\n",
    "        val_preds = []\n",
    "        val_labels = []\n",
    "        \n",
    "        running_loss = []\n",
    "        running_class_loss = []\n",
    "        running_seg_loss = []\n",
    "        running_corrects = 0\n",
    "        model.train()\n",
    "        \n",
    "        # adjust the weight between 2 losses\n",
    "        bound = 40\n",
    "        alpha = 0.25\n",
    "        \n",
    "        # when reaching certain epoch, add the predicted mask into mask (and update every 5 epochs)\n",
    "        #if epoch > 0.6*epochs:\n",
    "            #update += 1\n",
    "        \n",
    "        # enumerate mini batches\n",
    "        for item in tqdm(train_data):\n",
    "            \n",
    "            train_labels.extend(item['label'].numpy())\n",
    "            \n",
    "            # pass the data to the device\n",
    "            inputs = item['image'].to(device)\n",
    "            targets = item['label'].to(device)\n",
    "            masks = item['mask'].to(device)\n",
    "            \n",
    "            #print('mask:', np.unique(item['mask'][0]))\n",
    "            \n",
    "            # unlabelled\n",
    "            unlabelled_batch_ids = np.where(item[\"has_mask\"] == False) \n",
    "            # labelled\n",
    "            labelled_batch_ids = np.where(item[\"has_mask\"] == True) \n",
    "            \n",
    "            # clear the gradients\n",
    "            optimizer_ft.zero_grad()\n",
    "            \n",
    "            # compute the model output\n",
    "            output_masks, output_labels = model(inputs) # predicted mask and label\n",
    "            \n",
    "            '''\n",
    "            _, output_toprint = torch.max(output_masks, 1)\n",
    "            #_, truth_toprint = torch.max(masks, 1)\n",
    "            output_toprint = output_toprint.detach().cpu().numpy()\n",
    "            #print('output mask', output_masks[0].detach().cpu().numpy())\n",
    "            plt.imshow(output_toprint[0])\n",
    "            #print('true mask', truth_toprint)\n",
    "            #plt.imshow(output_masks[0].squeeze().detach().cpu().numpy().round())\n",
    "            '''\n",
    "            \n",
    "            # update the masks\n",
    "            #if epoch > 0.6*epochs:\n",
    "                \n",
    "            \n",
    "            # filter out those with masks to compute loss\n",
    "            labelled_mask = masks[labelled_batch_ids].to(device)\n",
    "            labelled_outmask = output_masks[labelled_batch_ids].float().to(device)\n",
    "            #print(labelled_mask.shape, labelled_outmask.shape)\n",
    "            \n",
    "            #print(\"train\", outputs)\n",
    "            _, label_preds = torch.max(output_labels, 1) #actual prediction\n",
    "            train_preds.extend(label_preds.detach().cpu().numpy())\n",
    "            \n",
    "            # calculate loss\n",
    "            train_classification_loss = classification_loss_fn(output_labels, targets)\n",
    "            train_segmentation_loss_ce = segmentation_loss_fn_ce(labelled_outmask, labelled_mask)\n",
    "            train_segmentation_loss_dice = segmentation_loss_fn_dice(labelled_outmask, labelled_mask)\n",
    "            #train_segmentation_loss_lovasz = segmentation_loss_fn_lovasz(labelled_outmask, labelled_mask)\n",
    "            train_segmentation_loss = train_segmentation_loss_ce + train_segmentation_loss_dice\n",
    "            #train_segmentation_loss = train_segmentation_loss_ce + train_segmentation_loss_lovasz\n",
    "            #print('segmentation loss:', train_segmentation_loss)\n",
    "            # credit assignment\n",
    "            if epoch < 20:\n",
    "                train_combined_loss = train_classification_loss + train_segmentation_loss\n",
    "                train_segmentation_loss.backward()\n",
    "            else:\n",
    "                lmda = lambda_func(epoch, bound, alpha)\n",
    "                train_combined_loss = train_classification_loss + lmda * train_segmentation_loss\n",
    "                train_combined_loss.backward()\n",
    "            # update model weights\n",
    "            optimizer_ft.step()\n",
    "            lrsdl.step()\n",
    "            \n",
    "            # statistics\n",
    "            running_class_loss.append(train_classification_loss.detach().cpu().numpy()) # loss for classification\n",
    "            running_seg_loss.append(train_segmentation_loss.detach().cpu().numpy()) # loss for segmentation\n",
    "            running_loss.append(train_combined_loss.detach().cpu().numpy()) # loss for above two\n",
    "            running_corrects += torch.sum(label_preds == targets.data)  # for classification\n",
    "            \n",
    "        epoch_loss = np.mean(running_loss) # loss for all\n",
    "        epoch_seg_loss = np.mean(running_seg_loss) # for segmentation\n",
    "        epoch_class_loss = np.mean(running_class_loss) # for classification\n",
    "        epoch_acc = running_corrects / train_dataset_size # for classification\n",
    "        epoch_acc = epoch_acc.cpu()\n",
    "        \n",
    "        train_losses.append(epoch_class_loss)\n",
    "        train_accs.append(epoch_acc)\n",
    "        \n",
    "        #print(train_labels)\n",
    "        #print(train_preds)\n",
    "        \n",
    "        # for classification task\n",
    "        train_f1 = f1_score(train_labels, train_preds, average='macro')\n",
    "        train_recall = recall_score(train_labels, train_preds, average='macro')\n",
    "        train_precision = precision_score(train_labels, train_preds, average='macro')\n",
    "        \n",
    "        train_f1s.append(train_f1)\n",
    "        train_recalls.append(train_recall)\n",
    "        train_precisions.append(train_precision)\n",
    "\n",
    "        print('Epoch {} | Training Loss: total-{:.4f} classification-{:.4f} segmentation-{:.4f} | Acc: {:.4f} | F1: {:.4f} | Recall: {:.4f} | Precision: {:.4f}'.format(epoch+1, epoch_loss, epoch_class_loss, epoch_seg_loss, epoch_acc, train_f1, train_recall, train_precision))\n",
    "        \n",
    "        # validation\n",
    "        model.eval()\n",
    "        with torch.no_grad():\n",
    "            val_running_loss = []\n",
    "            val_running_seg_loss = []\n",
    "            val_running_class_loss = []\n",
    "            val_running_corrects = 0\n",
    "            for item in tqdm(val_data):\n",
    "                \n",
    "                val_labels.extend(item['label'].numpy())\n",
    "                \n",
    "                # pass the data to the device\n",
    "                val_inputs = item['image'].to(device)\n",
    "                val_targets = item['label'].to(device)\n",
    "                val_masks = item['mask'].to(device)\n",
    "                                  \n",
    "                # unlabelled\n",
    "                unlabelled_batch_ids = np.where(item[\"has_mask\"] == False) \n",
    "                # labelled\n",
    "                labelled_batch_ids = np.where(item[\"has_mask\"] == True) \n",
    "                \n",
    "                # output of the model (segmentation and classification)\n",
    "                val_output_masks, val_output_labels = model(val_inputs) # predicted mask and label\n",
    "                #print(\"val:\", val_output_masks, val_output_labels)\n",
    "                                  \n",
    "                # filter out those with masks to compute loss\n",
    "                labelled_mask = val_masks[labelled_batch_ids].to(device)\n",
    "                labelled_outmask = val_output_masks[labelled_batch_ids].float().to(device)                \n",
    "                \n",
    "                # calculate loss\n",
    "                val_classification_loss = classification_loss_fn(val_output_labels, val_targets)\n",
    "                #labelled_mask = labelled_mask.squeeze(1)\n",
    "                if len(labelled_mask) > 0:\n",
    "                    val_segmentation_loss_ce = segmentation_loss_fn_ce(labelled_outmask, labelled_mask)\n",
    "                    val_segmentation_loss_dice = segmentation_loss_fn_dice(labelled_outmask, labelled_mask)\n",
    "                    #val_segmentation_loss_lovasz = segmentation_loss_fn_lovasz(labelled_outmask, labelled_mask)\n",
    "                    val_segmentation_loss = val_segmentation_loss_ce + val_segmentation_loss_dice\n",
    "                    #val_segmentation_loss = val_segmentation_loss_ce + val_segmentation_loss_lovasz\n",
    "                    #val_combined_loss = val_classification_loss + val_segmentation_loss\n",
    "                #else:\n",
    "                    #val_combined_loss = val_classification_loss\n",
    "                \n",
    "                _, val_label_pred = torch.max(val_output_labels, 1)\n",
    "                val_preds.extend(val_label_pred.detach().cpu().numpy())\n",
    "                                  \n",
    "                # statistics\n",
    "                val_running_class_loss.append(val_classification_loss.detach().cpu().numpy())\n",
    "                if len(labelled_mask) > 0:\n",
    "                    val_running_seg_loss.append(val_segmentation_loss.detach().cpu().numpy())\n",
    "                else:\n",
    "                    val_running_seg_loss.append(0)\n",
    "                #val_running_loss.append(val_combined_loss.detach().cpu().numpy())\n",
    "                val_running_corrects += torch.sum(val_label_pred == val_targets.data)\n",
    "            \n",
    "                                  \n",
    "            #val_epoch_loss = np.mean(val_running_loss)\n",
    "            val_epoch_seg_loss = np.mean(val_running_seg_loss)\n",
    "            val_epoch_class_loss = np.mean(val_running_class_loss)\n",
    "            val_epoch_acc = val_running_corrects / val_dataset_size    \n",
    "            val_epoch_acc = val_epoch_acc.cpu()\n",
    "            \n",
    "            val_losses.append(val_epoch_class_loss)\n",
    "            val_accs.append(val_epoch_acc)\n",
    "            \n",
    "            \n",
    "            val_f1 = f1_score(val_labels, val_preds, average='macro')\n",
    "            val_recall = recall_score(val_labels, val_preds, average='macro')\n",
    "            val_precision = precision_score(val_labels, val_preds, average='macro')\n",
    "            \n",
    "            val_f1s.append(val_f1)\n",
    "            val_recalls.append(val_recall)\n",
    "            val_precisions.append(val_precision)\n",
    "            \n",
    "            print('Epoch {} | Validation Loss: classification-{:.4f} segmentation-{:.4f} | Acc: {:.4f} | F1: {:.4f}|  Recall: {:.4f} | Precision: {:.4f}'.format(epoch+1, val_epoch_class_loss, val_epoch_seg_loss, val_epoch_acc, val_f1, val_recall, val_precision))\n",
    "            #print('segmentation loss:', val_epoch_seg_loss)\n",
    "                \n",
    "            \n",
    "            if val_f1 > 0.9:\n",
    "                f1_improve += 1\n",
    "                if val_f1 == max(val_f1s) and val_f1 > max(val_f1s[:-1]):\n",
    "                    save_checkpoint(dir_name, epoch+1, val_f1)\n",
    "                    f1_improve = 0\n",
    "                if f1_improve > 25:\n",
    "                    print('Epoch {} early stopping'.format(epoch+1))\n",
    "                    break\n",
    "            \n",
    "            \n",
    "            \n",
    "    # plot\n",
    "    plt.plot(train_losses, label='Train')\n",
    "    plt.plot(val_losses, label=\"Validation\")\n",
    "    plt.xlabel('Epochs')\n",
    "    plt.ylabel('Loss')\n",
    "    plt.title(\"Loss Graph\")\n",
    "    plt.show()\n",
    "    \n",
    "    plt.plot(train_accs, label='Train')\n",
    "    plt.plot(val_accs, label='Validation')\n",
    "    plt.xlabel('Epochs')\n",
    "    plt.ylabel('Accuracy')\n",
    "    plt.title('Accuracy Graph')\n",
    "    plt.show()\n",
    "    \n",
    "    plt.plot(train_f1s, label='Train')\n",
    "    plt.plot(val_f1s, label=\"Validation\")\n",
    "    plt.xlabel('Epochs')\n",
    "    plt.ylabel('Macro F1')\n",
    "    plt.title(\"Macro-F1 Graph\")\n",
    "    plt.show()\n",
    "    \n",
    "    plt.plot(train_recalls, label='Train')\n",
    "    plt.plot(val_recalls, label=\"Validation\")\n",
    "    plt.xlabel('Epochs')\n",
    "    plt.ylabel('Macro Recall')\n",
    "    plt.title(\"Macro-Recall Graph\")\n",
    "    plt.show()\n",
    "    \n",
    "    plt.plot(train_precisions, label='Train')\n",
    "    plt.plot(val_precisions, label=\"Validation\")\n",
    "    plt.xlabel('Epochs')\n",
    "    plt.ylabel('Macro Precision')\n",
    "    plt.title(\"Macro-Precision Graph\")\n",
    "    plt.show()\n",
    "    \n",
    "    # confusion matrix of the last time\n",
    "    val_cfmtx = confusion_matrix(val_labels, val_preds)\n",
    "    #print(val_cfmtx.type)\n",
    "    val_cfmtxn = val_cfmtx.astype('float') / val_cfmtx.sum(axis=1)[:, np.newaxis]\n",
    "    sns.heatmap(val_cfmtxn, annot=True, fmt='.2%', cmap='Blues')"
   ]
  },
  {
   "cell_type": "code",
   "execution_count": 24,
   "id": "bb848532",
   "metadata": {
    "tags": []
   },
   "outputs": [
    {
     "name": "stderr",
     "output_type": "stream",
     "text": [
      "100%|██████████| 111/111 [01:09<00:00,  1.59it/s]\n"
     ]
    },
    {
     "name": "stdout",
     "output_type": "stream",
     "text": [
      "Epoch 1 | Training Loss: total-1.7786 classification-0.8112 segmentation-0.9674 | Acc: 0.4817 | F1: 0.4667 | Recall: 0.5152 | Precision: 0.5114\n"
     ]
    },
    {
     "name": "stderr",
     "output_type": "stream",
     "text": [
      "100%|██████████| 25/25 [00:07<00:00,  3.23it/s]\n"
     ]
    },
    {
     "name": "stdout",
     "output_type": "stream",
     "text": [
      "Epoch 1 | Validation Loss: classification-0.7372 segmentation-0.8538 | Acc: 0.4948 | F1: 0.4856|  Recall: 0.5376 | Precision: 0.5314\n"
     ]
    },
    {
     "name": "stderr",
     "output_type": "stream",
     "text": [
      "100%|██████████| 111/111 [01:13<00:00,  1.51it/s]\n"
     ]
    },
    {
     "name": "stdout",
     "output_type": "stream",
     "text": [
      "Epoch 2 | Training Loss: total-1.6313 classification-0.7737 segmentation-0.8576 | Acc: 0.5426 | F1: 0.5208 | Recall: 0.5670 | Precision: 0.5501\n"
     ]
    },
    {
     "name": "stderr",
     "output_type": "stream",
     "text": [
      "100%|██████████| 25/25 [00:08<00:00,  3.03it/s]\n"
     ]
    },
    {
     "name": "stdout",
     "output_type": "stream",
     "text": [
      "Epoch 2 | Validation Loss: classification-0.7311 segmentation-0.8309 | Acc: 0.4794 | F1: 0.4575|  Recall: 0.4829 | Precision: 0.4861\n"
     ]
    },
    {
     "name": "stderr",
     "output_type": "stream",
     "text": [
      "100%|██████████| 111/111 [01:16<00:00,  1.45it/s]\n"
     ]
    },
    {
     "name": "stdout",
     "output_type": "stream",
     "text": [
      "Epoch 3 | Training Loss: total-1.6564 classification-0.8256 segmentation-0.8308 | Acc: 0.4718 | F1: 0.4564 | Recall: 0.5024 | Precision: 0.5018\n"
     ]
    },
    {
     "name": "stderr",
     "output_type": "stream",
     "text": [
      "100%|██████████| 25/25 [00:08<00:00,  3.06it/s]\n"
     ]
    },
    {
     "name": "stdout",
     "output_type": "stream",
     "text": [
      "Epoch 3 | Validation Loss: classification-0.7333 segmentation-0.7797 | Acc: 0.4639 | F1: 0.4489|  Recall: 0.4831 | Precision: 0.4861\n"
     ]
    },
    {
     "name": "stderr",
     "output_type": "stream",
     "text": [
      "100%|██████████| 111/111 [01:16<00:00,  1.46it/s]\n"
     ]
    },
    {
     "name": "stdout",
     "output_type": "stream",
     "text": [
      "Epoch 4 | Training Loss: total-1.5801 classification-0.8130 segmentation-0.7670 | Acc: 0.5105 | F1: 0.4892 | Recall: 0.5317 | Precision: 0.5237\n"
     ]
    },
    {
     "name": "stderr",
     "output_type": "stream",
     "text": [
      "100%|██████████| 25/25 [00:08<00:00,  2.95it/s]\n"
     ]
    },
    {
     "name": "stdout",
     "output_type": "stream",
     "text": [
      "Epoch 4 | Validation Loss: classification-0.7307 segmentation-0.7564 | Acc: 0.4433 | F1: 0.4159|  Recall: 0.4302 | Precision: 0.4433\n"
     ]
    },
    {
     "name": "stderr",
     "output_type": "stream",
     "text": [
      "100%|██████████| 111/111 [01:15<00:00,  1.46it/s]\n"
     ]
    },
    {
     "name": "stdout",
     "output_type": "stream",
     "text": [
      "Epoch 5 | Training Loss: total-1.5848 classification-0.8202 segmentation-0.7646 | Acc: 0.4718 | F1: 0.4495 | Recall: 0.4842 | Precision: 0.4882\n"
     ]
    },
    {
     "name": "stderr",
     "output_type": "stream",
     "text": [
      "100%|██████████| 25/25 [00:08<00:00,  3.02it/s]\n"
     ]
    },
    {
     "name": "stdout",
     "output_type": "stream",
     "text": [
      "Epoch 5 | Validation Loss: classification-0.7306 segmentation-0.7385 | Acc: 0.4639 | F1: 0.4290|  Recall: 0.4391 | Precision: 0.4503\n"
     ]
    },
    {
     "name": "stderr",
     "output_type": "stream",
     "text": [
      "100%|██████████| 111/111 [01:16<00:00,  1.45it/s]\n"
     ]
    },
    {
     "name": "stdout",
     "output_type": "stream",
     "text": [
      "Epoch 6 | Training Loss: total-1.5316 classification-0.7943 segmentation-0.7374 | Acc: 0.5039 | F1: 0.4844 | Recall: 0.5287 | Precision: 0.5215\n"
     ]
    },
    {
     "name": "stderr",
     "output_type": "stream",
     "text": [
      "100%|██████████| 25/25 [00:08<00:00,  3.03it/s]\n"
     ]
    },
    {
     "name": "stdout",
     "output_type": "stream",
     "text": [
      "Epoch 6 | Validation Loss: classification-0.7370 segmentation-0.7277 | Acc: 0.4485 | F1: 0.4391|  Recall: 0.4833 | Precision: 0.4860\n"
     ]
    },
    {
     "name": "stderr",
     "output_type": "stream",
     "text": [
      "100%|██████████| 111/111 [01:15<00:00,  1.47it/s]\n"
     ]
    },
    {
     "name": "stdout",
     "output_type": "stream",
     "text": [
      "Epoch 7 | Training Loss: total-1.5511 classification-0.8260 segmentation-0.7251 | Acc: 0.4640 | F1: 0.4520 | Recall: 0.5032 | Precision: 0.5024\n"
     ]
    },
    {
     "name": "stderr",
     "output_type": "stream",
     "text": [
      "100%|██████████| 25/25 [00:08<00:00,  3.05it/s]\n"
     ]
    },
    {
     "name": "stdout",
     "output_type": "stream",
     "text": [
      "Epoch 7 | Validation Loss: classification-0.7319 segmentation-0.7188 | Acc: 0.4639 | F1: 0.4469|  Recall: 0.4776 | Precision: 0.4816\n"
     ]
    },
    {
     "name": "stderr",
     "output_type": "stream",
     "text": [
      "100%|██████████| 111/111 [01:16<00:00,  1.46it/s]\n"
     ]
    },
    {
     "name": "stdout",
     "output_type": "stream",
     "text": [
      "Epoch 8 | Training Loss: total-1.5047 classification-0.7941 segmentation-0.7107 | Acc: 0.5072 | F1: 0.4859 | Recall: 0.5279 | Precision: 0.5209\n"
     ]
    },
    {
     "name": "stderr",
     "output_type": "stream",
     "text": [
      "100%|██████████| 25/25 [00:07<00:00,  3.16it/s]\n"
     ]
    },
    {
     "name": "stdout",
     "output_type": "stream",
     "text": [
      "Epoch 8 | Validation Loss: classification-0.7318 segmentation-0.7090 | Acc: 0.4588 | F1: 0.4250|  Recall: 0.4355 | Precision: 0.4475\n"
     ]
    },
    {
     "name": "stderr",
     "output_type": "stream",
     "text": [
      "100%|██████████| 111/111 [01:16<00:00,  1.45it/s]\n"
     ]
    },
    {
     "name": "stdout",
     "output_type": "stream",
     "text": [
      "Epoch 9 | Training Loss: total-1.5168 classification-0.8205 segmentation-0.6962 | Acc: 0.4529 | F1: 0.4308 | Recall: 0.4624 | Precision: 0.4718\n"
     ]
    },
    {
     "name": "stderr",
     "output_type": "stream",
     "text": [
      "100%|██████████| 25/25 [00:08<00:00,  3.02it/s]\n"
     ]
    },
    {
     "name": "stdout",
     "output_type": "stream",
     "text": [
      "Epoch 9 | Validation Loss: classification-0.7246 segmentation-0.7070 | Acc: 0.4639 | F1: 0.4290|  Recall: 0.4391 | Precision: 0.4503\n"
     ]
    },
    {
     "name": "stderr",
     "output_type": "stream",
     "text": [
      "100%|██████████| 111/111 [01:15<00:00,  1.46it/s]\n"
     ]
    },
    {
     "name": "stdout",
     "output_type": "stream",
     "text": [
      "Epoch 10 | Training Loss: total-1.4925 classification-0.8007 segmentation-0.6918 | Acc: 0.5039 | F1: 0.4776 | Recall: 0.5120 | Precision: 0.5090\n"
     ]
    },
    {
     "name": "stderr",
     "output_type": "stream",
     "text": [
      "100%|██████████| 25/25 [00:08<00:00,  3.07it/s]\n"
     ]
    },
    {
     "name": "stdout",
     "output_type": "stream",
     "text": [
      "Epoch 10 | Validation Loss: classification-0.7334 segmentation-0.6974 | Acc: 0.4845 | F1: 0.4592|  Recall: 0.4810 | Precision: 0.4845\n"
     ]
    },
    {
     "name": "stderr",
     "output_type": "stream",
     "text": [
      "100%|██████████| 111/111 [01:16<00:00,  1.46it/s]\n"
     ]
    },
    {
     "name": "stdout",
     "output_type": "stream",
     "text": [
      "Epoch 11 | Training Loss: total-1.4745 classification-0.8069 segmentation-0.6676 | Acc: 0.4906 | F1: 0.4683 | Recall: 0.5061 | Precision: 0.5045\n"
     ]
    },
    {
     "name": "stderr",
     "output_type": "stream",
     "text": [
      "100%|██████████| 25/25 [00:08<00:00,  3.04it/s]\n"
     ]
    },
    {
     "name": "stdout",
     "output_type": "stream",
     "text": [
      "Epoch 11 | Validation Loss: classification-0.7234 segmentation-0.6964 | Acc: 0.4794 | F1: 0.4550|  Recall: 0.4774 | Precision: 0.4816\n"
     ]
    },
    {
     "name": "stderr",
     "output_type": "stream",
     "text": [
      "100%|██████████| 111/111 [01:17<00:00,  1.43it/s]\n"
     ]
    },
    {
     "name": "stdout",
     "output_type": "stream",
     "text": [
      "Epoch 12 | Training Loss: total-1.4608 classification-0.8020 segmentation-0.6588 | Acc: 0.4828 | F1: 0.4666 | Recall: 0.5129 | Precision: 0.5097\n"
     ]
    },
    {
     "name": "stderr",
     "output_type": "stream",
     "text": [
      "100%|██████████| 25/25 [00:07<00:00,  3.17it/s]\n"
     ]
    },
    {
     "name": "stdout",
     "output_type": "stream",
     "text": [
      "Epoch 12 | Validation Loss: classification-0.7148 segmentation-0.6821 | Acc: 0.5052 | F1: 0.4783|  Recall: 0.5009 | Precision: 0.5007\n"
     ]
    },
    {
     "name": "stderr",
     "output_type": "stream",
     "text": [
      "100%|██████████| 111/111 [01:14<00:00,  1.48it/s]\n"
     ]
    },
    {
     "name": "stdout",
     "output_type": "stream",
     "text": [
      "Epoch 13 | Training Loss: total-1.4627 classification-0.8107 segmentation-0.6520 | Acc: 0.4806 | F1: 0.4631 | Recall: 0.5069 | Precision: 0.5052\n"
     ]
    },
    {
     "name": "stderr",
     "output_type": "stream",
     "text": [
      "100%|██████████| 25/25 [00:07<00:00,  3.16it/s]\n"
     ]
    },
    {
     "name": "stdout",
     "output_type": "stream",
     "text": [
      "Epoch 13 | Validation Loss: classification-0.7126 segmentation-0.6838 | Acc: 0.5412 | F1: 0.4979|  Recall: 0.5095 | Precision: 0.5079\n"
     ]
    },
    {
     "name": "stderr",
     "output_type": "stream",
     "text": [
      "100%|██████████| 111/111 [01:15<00:00,  1.48it/s]\n"
     ]
    },
    {
     "name": "stdout",
     "output_type": "stream",
     "text": [
      "Epoch 14 | Training Loss: total-1.4472 classification-0.8023 segmentation-0.6449 | Acc: 0.5017 | F1: 0.4874 | Recall: 0.5408 | Precision: 0.5307\n"
     ]
    },
    {
     "name": "stderr",
     "output_type": "stream",
     "text": [
      "100%|██████████| 25/25 [00:08<00:00,  2.99it/s]\n"
     ]
    },
    {
     "name": "stdout",
     "output_type": "stream",
     "text": [
      "Epoch 14 | Validation Loss: classification-0.7274 segmentation-0.6765 | Acc: 0.4948 | F1: 0.4747|  Recall: 0.5046 | Precision: 0.5038\n"
     ]
    },
    {
     "name": "stderr",
     "output_type": "stream",
     "text": [
      "100%|██████████| 111/111 [01:15<00:00,  1.48it/s]\n"
     ]
    },
    {
     "name": "stdout",
     "output_type": "stream",
     "text": [
      "Epoch 15 | Training Loss: total-1.4480 classification-0.8112 segmentation-0.6367 | Acc: 0.4773 | F1: 0.4625 | Recall: 0.5107 | Precision: 0.5080\n"
     ]
    },
    {
     "name": "stderr",
     "output_type": "stream",
     "text": [
      "100%|██████████| 25/25 [00:08<00:00,  3.10it/s]\n"
     ]
    },
    {
     "name": "stdout",
     "output_type": "stream",
     "text": [
      "Epoch 15 | Validation Loss: classification-0.7245 segmentation-0.6760 | Acc: 0.5155 | F1: 0.4810|  Recall: 0.4971 | Precision: 0.4976\n"
     ]
    },
    {
     "name": "stderr",
     "output_type": "stream",
     "text": [
      "100%|██████████| 111/111 [01:15<00:00,  1.47it/s]\n"
     ]
    },
    {
     "name": "stdout",
     "output_type": "stream",
     "text": [
      "Epoch 16 | Training Loss: total-1.4473 classification-0.8125 segmentation-0.6347 | Acc: 0.5017 | F1: 0.4820 | Recall: 0.5257 | Precision: 0.5192\n"
     ]
    },
    {
     "name": "stderr",
     "output_type": "stream",
     "text": [
      "100%|██████████| 25/25 [00:08<00:00,  3.04it/s]\n"
     ]
    },
    {
     "name": "stdout",
     "output_type": "stream",
     "text": [
      "Epoch 16 | Validation Loss: classification-0.7287 segmentation-0.6758 | Acc: 0.5103 | F1: 0.4640|  Recall: 0.4715 | Precision: 0.4763\n"
     ]
    },
    {
     "name": "stderr",
     "output_type": "stream",
     "text": [
      "100%|██████████| 111/111 [01:15<00:00,  1.47it/s]\n"
     ]
    },
    {
     "name": "stdout",
     "output_type": "stream",
     "text": [
      "Epoch 17 | Training Loss: total-1.4165 classification-0.7943 segmentation-0.6222 | Acc: 0.4961 | F1: 0.4715 | Recall: 0.5068 | Precision: 0.5051\n"
     ]
    },
    {
     "name": "stderr",
     "output_type": "stream",
     "text": [
      "100%|██████████| 25/25 [00:07<00:00,  3.17it/s]\n"
     ]
    },
    {
     "name": "stdout",
     "output_type": "stream",
     "text": [
      "Epoch 17 | Validation Loss: classification-0.7128 segmentation-0.6622 | Acc: 0.5052 | F1: 0.4668|  Recall: 0.4789 | Precision: 0.4827\n"
     ]
    },
    {
     "name": "stderr",
     "output_type": "stream",
     "text": [
      "100%|██████████| 111/111 [01:14<00:00,  1.49it/s]\n"
     ]
    },
    {
     "name": "stdout",
     "output_type": "stream",
     "text": [
      "Epoch 18 | Training Loss: total-1.4079 classification-0.7863 segmentation-0.6216 | Acc: 0.5039 | F1: 0.4855 | Recall: 0.5317 | Precision: 0.5237\n"
     ]
    },
    {
     "name": "stderr",
     "output_type": "stream",
     "text": [
      "100%|██████████| 25/25 [00:07<00:00,  3.13it/s]\n"
     ]
    },
    {
     "name": "stdout",
     "output_type": "stream",
     "text": [
      "Epoch 18 | Validation Loss: classification-0.7206 segmentation-0.6615 | Acc: 0.5052 | F1: 0.4729|  Recall: 0.4899 | Precision: 0.4917\n"
     ]
    },
    {
     "name": "stderr",
     "output_type": "stream",
     "text": [
      "100%|██████████| 111/111 [01:15<00:00,  1.47it/s]\n"
     ]
    },
    {
     "name": "stdout",
     "output_type": "stream",
     "text": [
      "Epoch 19 | Training Loss: total-1.3949 classification-0.7755 segmentation-0.6193 | Acc: 0.5172 | F1: 0.4875 | Recall: 0.5195 | Precision: 0.5146\n"
     ]
    },
    {
     "name": "stderr",
     "output_type": "stream",
     "text": [
      "100%|██████████| 25/25 [00:08<00:00,  3.05it/s]\n"
     ]
    },
    {
     "name": "stdout",
     "output_type": "stream",
     "text": [
      "Epoch 19 | Validation Loss: classification-0.7155 segmentation-0.6540 | Acc: 0.4948 | F1: 0.4700|  Recall: 0.4937 | Precision: 0.4948\n"
     ]
    },
    {
     "name": "stderr",
     "output_type": "stream",
     "text": [
      "100%|██████████| 111/111 [01:15<00:00,  1.47it/s]\n"
     ]
    },
    {
     "name": "stdout",
     "output_type": "stream",
     "text": [
      "Epoch 20 | Training Loss: total-1.3931 classification-0.7813 segmentation-0.6117 | Acc: 0.4784 | F1: 0.4618 | Recall: 0.5069 | Precision: 0.5052\n"
     ]
    },
    {
     "name": "stderr",
     "output_type": "stream",
     "text": [
      "100%|██████████| 25/25 [00:08<00:00,  3.08it/s]\n"
     ]
    },
    {
     "name": "stdout",
     "output_type": "stream",
     "text": [
      "Epoch 20 | Validation Loss: classification-0.7204 segmentation-0.6512 | Acc: 0.5103 | F1: 0.4825|  Recall: 0.5044 | Precision: 0.5036\n"
     ]
    },
    {
     "name": "stderr",
     "output_type": "stream",
     "text": [
      "100%|██████████| 111/111 [01:16<00:00,  1.46it/s]\n"
     ]
    },
    {
     "name": "stdout",
     "output_type": "stream",
     "text": [
      "Epoch 21 | Training Loss: total-0.8797 classification-0.5758 segmentation-0.6078 | Acc: 0.6955 | F1: 0.6345 | Recall: 0.6463 | Precision: 0.6289\n"
     ]
    },
    {
     "name": "stderr",
     "output_type": "stream",
     "text": [
      "100%|██████████| 25/25 [00:08<00:00,  3.11it/s]\n"
     ]
    },
    {
     "name": "stdout",
     "output_type": "stream",
     "text": [
      "Epoch 21 | Validation Loss: classification-0.3773 segmentation-0.6459 | Acc: 0.9021 | F1: 0.8849|  Recall: 0.9042 | Precision: 0.8714\n"
     ]
    },
    {
     "name": "stderr",
     "output_type": "stream",
     "text": [
      "100%|██████████| 111/111 [01:16<00:00,  1.45it/s]\n"
     ]
    },
    {
     "name": "stdout",
     "output_type": "stream",
     "text": [
      "Epoch 22 | Training Loss: total-0.5900 classification-0.3203 segmentation-0.6160 | Acc: 0.8649 | F1: 0.8454 | Recall: 0.8608 | Precision: 0.8334\n"
     ]
    },
    {
     "name": "stderr",
     "output_type": "stream",
     "text": [
      "100%|██████████| 25/25 [00:08<00:00,  3.07it/s]\n"
     ]
    },
    {
     "name": "stdout",
     "output_type": "stream",
     "text": [
      "Epoch 22 | Validation Loss: classification-0.2232 segmentation-0.6466 | Acc: 0.9433 | F1: 0.9320|  Recall: 0.9440 | Precision: 0.9221\n"
     ]
    },
    {
     "name": "stderr",
     "output_type": "stream",
     "text": [
      "100%|██████████| 111/111 [01:16<00:00,  1.46it/s]\n"
     ]
    },
    {
     "name": "stdout",
     "output_type": "stream",
     "text": [
      "Epoch 23 | Training Loss: total-0.4350 classification-0.2025 segmentation-0.6159 | Acc: 0.9114 | F1: 0.9045 | Recall: 0.9150 | Precision: 0.8954\n"
     ]
    },
    {
     "name": "stderr",
     "output_type": "stream",
     "text": [
      "100%|██████████| 25/25 [00:08<00:00,  3.03it/s]\n"
     ]
    },
    {
     "name": "stdout",
     "output_type": "stream",
     "text": [
      "Epoch 23 | Validation Loss: classification-0.1490 segmentation-0.6488 | Acc: 0.9639 | F1: 0.9563|  Recall: 0.9638 | Precision: 0.9495\n"
     ]
    },
    {
     "name": "stderr",
     "output_type": "stream",
     "text": [
      "100%|██████████| 111/111 [01:16<00:00,  1.45it/s]\n"
     ]
    },
    {
     "name": "stdout",
     "output_type": "stream",
     "text": [
      "Epoch 24 | Training Loss: total-0.3201 classification-0.1241 segmentation-0.6109 | Acc: 0.9413 | F1: 0.9436 | Recall: 0.9503 | Precision: 0.9374\n"
     ]
    },
    {
     "name": "stderr",
     "output_type": "stream",
     "text": [
      "100%|██████████| 25/25 [00:08<00:00,  3.00it/s]\n"
     ]
    },
    {
     "name": "stdout",
     "output_type": "stream",
     "text": [
      "Epoch 24 | Validation Loss: classification-0.1122 segmentation-0.6486 | Acc: 0.9536 | F1: 0.9432|  Recall: 0.9457 | Precision: 0.9409\n"
     ]
    },
    {
     "name": "stderr",
     "output_type": "stream",
     "text": [
      "100%|██████████| 111/111 [01:16<00:00,  1.45it/s]\n"
     ]
    },
    {
     "name": "stdout",
     "output_type": "stream",
     "text": [
      "Epoch 25 | Training Loss: total-0.2466 classification-0.0829 segmentation-0.6090 | Acc: 0.9546 | F1: 0.9616 | Recall: 0.9700 | Precision: 0.9541\n"
     ]
    },
    {
     "name": "stderr",
     "output_type": "stream",
     "text": [
      "100%|██████████| 25/25 [00:08<00:00,  3.07it/s]\n"
     ]
    },
    {
     "name": "stdout",
     "output_type": "stream",
     "text": [
      "Epoch 25 | Validation Loss: classification-0.1190 segmentation-0.6509 | Acc: 0.9639 | F1: 0.9558|  Recall: 0.9583 | Precision: 0.9534\n"
     ]
    },
    {
     "name": "stderr",
     "output_type": "stream",
     "text": [
      "100%|██████████| 111/111 [01:16<00:00,  1.44it/s]\n"
     ]
    },
    {
     "name": "stdout",
     "output_type": "stream",
     "text": [
      "Epoch 26 | Training Loss: total-0.1918 classification-0.0577 segmentation-0.6022 | Acc: 0.9668 | F1: 0.9777 | Recall: 0.9842 | Precision: 0.9716\n"
     ]
    },
    {
     "name": "stderr",
     "output_type": "stream",
     "text": [
      "100%|██████████| 25/25 [00:08<00:00,  2.99it/s]\n"
     ]
    },
    {
     "name": "stdout",
     "output_type": "stream",
     "text": [
      "Epoch 26 | Validation Loss: classification-0.0781 segmentation-0.6520 | Acc: 0.9691 | F1: 0.9627|  Recall: 0.9729 | Precision: 0.9539\n"
     ]
    },
    {
     "name": "stderr",
     "output_type": "stream",
     "text": [
      "100%|██████████| 111/111 [01:17<00:00,  1.44it/s]\n"
     ]
    },
    {
     "name": "stdout",
     "output_type": "stream",
     "text": [
      "Epoch 27 | Training Loss: total-0.1458 classification-0.0342 segmentation-0.6116 | Acc: 0.9745 | F1: 0.9880 | Recall: 0.9910 | Precision: 0.9852\n"
     ]
    },
    {
     "name": "stderr",
     "output_type": "stream",
     "text": [
      "100%|██████████| 25/25 [00:08<00:00,  2.95it/s]\n"
     ]
    },
    {
     "name": "stdout",
     "output_type": "stream",
     "text": [
      "Epoch 27 | Validation Loss: classification-0.0783 segmentation-0.6506 | Acc: 0.9742 | F1: 0.9688|  Recall: 0.9765 | Precision: 0.9618\n"
     ]
    },
    {
     "name": "stderr",
     "output_type": "stream",
     "text": [
      "100%|██████████| 111/111 [01:16<00:00,  1.45it/s]\n"
     ]
    },
    {
     "name": "stdout",
     "output_type": "stream",
     "text": [
      "Epoch 28 | Training Loss: total-0.1350 classification-0.0459 segmentation-0.6017 | Acc: 0.9701 | F1: 0.9820 | Recall: 0.9850 | Precision: 0.9792\n"
     ]
    },
    {
     "name": "stderr",
     "output_type": "stream",
     "text": [
      "100%|██████████| 25/25 [00:08<00:00,  3.02it/s]\n"
     ]
    },
    {
     "name": "stdout",
     "output_type": "stream",
     "text": [
      "Epoch 28 | Validation Loss: classification-0.0875 segmentation-0.6548 | Acc: 0.9742 | F1: 0.9685|  Recall: 0.9710 | Precision: 0.9660\n"
     ]
    },
    {
     "name": "stderr",
     "output_type": "stream",
     "text": [
      "100%|██████████| 111/111 [01:16<00:00,  1.45it/s]\n"
     ]
    },
    {
     "name": "stdout",
     "output_type": "stream",
     "text": [
      "Epoch 29 | Training Loss: total-0.1152 classification-0.0416 segmentation-0.6169 | Acc: 0.9690 | F1: 0.9806 | Recall: 0.9857 | Precision: 0.9758\n"
     ]
    },
    {
     "name": "stderr",
     "output_type": "stream",
     "text": [
      "100%|██████████| 25/25 [00:08<00:00,  2.99it/s]\n"
     ]
    },
    {
     "name": "stdout",
     "output_type": "stream",
     "text": [
      "Epoch 29 | Validation Loss: classification-0.0646 segmentation-0.6507 | Acc: 0.9742 | F1: 0.9688|  Recall: 0.9765 | Precision: 0.9618\n"
     ]
    },
    {
     "name": "stderr",
     "output_type": "stream",
     "text": [
      "100%|██████████| 111/111 [01:16<00:00,  1.45it/s]\n"
     ]
    },
    {
     "name": "stdout",
     "output_type": "stream",
     "text": [
      "Epoch 30 | Training Loss: total-0.0825 classification-0.0249 segmentation-0.6043 | Acc: 0.9779 | F1: 0.9925 | Recall: 0.9947 | Precision: 0.9903\n"
     ]
    },
    {
     "name": "stderr",
     "output_type": "stream",
     "text": [
      "100%|██████████| 25/25 [00:08<00:00,  3.03it/s]\n"
     ]
    },
    {
     "name": "stdout",
     "output_type": "stream",
     "text": [
      "Epoch 30 | Validation Loss: classification-0.0596 segmentation-0.6487 | Acc: 0.9845 | F1: 0.9811|  Recall: 0.9837 | Precision: 0.9785\n"
     ]
    },
    {
     "name": "stderr",
     "output_type": "stream",
     "text": [
      "100%|██████████| 111/111 [01:16<00:00,  1.45it/s]\n"
     ]
    },
    {
     "name": "stdout",
     "output_type": "stream",
     "text": [
      "Epoch 31 | Training Loss: total-0.0751 classification-0.0291 segmentation-0.6069 | Acc: 0.9734 | F1: 0.9865 | Recall: 0.9902 | Precision: 0.9830\n"
     ]
    },
    {
     "name": "stderr",
     "output_type": "stream",
     "text": [
      "100%|██████████| 25/25 [00:08<00:00,  3.01it/s]\n"
     ]
    },
    {
     "name": "stdout",
     "output_type": "stream",
     "text": [
      "Epoch 31 | Validation Loss: classification-0.0660 segmentation-0.6509 | Acc: 0.9845 | F1: 0.9811|  Recall: 0.9837 | Precision: 0.9785\n"
     ]
    },
    {
     "name": "stderr",
     "output_type": "stream",
     "text": [
      "100%|██████████| 111/111 [01:16<00:00,  1.45it/s]\n"
     ]
    },
    {
     "name": "stdout",
     "output_type": "stream",
     "text": [
      "Epoch 32 | Training Loss: total-0.0538 classification-0.0166 segmentation-0.6193 | Acc: 0.9801 | F1: 0.9955 | Recall: 0.9978 | Precision: 0.9933\n"
     ]
    },
    {
     "name": "stderr",
     "output_type": "stream",
     "text": [
      "100%|██████████| 25/25 [00:08<00:00,  3.00it/s]\n"
     ]
    },
    {
     "name": "stdout",
     "output_type": "stream",
     "text": [
      "Epoch 32 | Validation Loss: classification-0.0586 segmentation-0.6511 | Acc: 0.9845 | F1: 0.9811|  Recall: 0.9837 | Precision: 0.9785\n"
     ]
    },
    {
     "name": "stderr",
     "output_type": "stream",
     "text": [
      "100%|██████████| 111/111 [01:18<00:00,  1.41it/s]\n"
     ]
    },
    {
     "name": "stdout",
     "output_type": "stream",
     "text": [
      "Epoch 33 | Training Loss: total-0.0539 classification-0.0254 segmentation-0.6026 | Acc: 0.9745 | F1: 0.9880 | Recall: 0.9880 | Precision: 0.9880\n"
     ]
    },
    {
     "name": "stderr",
     "output_type": "stream",
     "text": [
      "100%|██████████| 25/25 [00:08<00:00,  2.94it/s]\n"
     ]
    },
    {
     "name": "stdout",
     "output_type": "stream",
     "text": [
      "Epoch 33 | Validation Loss: classification-0.0716 segmentation-0.6527 | Acc: 0.9742 | F1: 0.9688|  Recall: 0.9765 | Precision: 0.9618\n"
     ]
    },
    {
     "name": "stderr",
     "output_type": "stream",
     "text": [
      "100%|██████████| 111/111 [01:17<00:00,  1.44it/s]\n"
     ]
    },
    {
     "name": "stdout",
     "output_type": "stream",
     "text": [
      "Epoch 34 | Training Loss: total-0.0381 classification-0.0152 segmentation-0.6128 | Acc: 0.9801 | F1: 0.9955 | Recall: 0.9962 | Precision: 0.9947\n"
     ]
    },
    {
     "name": "stderr",
     "output_type": "stream",
     "text": [
      "100%|██████████| 25/25 [00:08<00:00,  3.05it/s]\n"
     ]
    },
    {
     "name": "stdout",
     "output_type": "stream",
     "text": [
      "Epoch 34 | Validation Loss: classification-0.0620 segmentation-0.6472 | Acc: 0.9845 | F1: 0.9811|  Recall: 0.9837 | Precision: 0.9785\n"
     ]
    },
    {
     "name": "stderr",
     "output_type": "stream",
     "text": [
      "100%|██████████| 111/111 [01:16<00:00,  1.45it/s]\n"
     ]
    },
    {
     "name": "stdout",
     "output_type": "stream",
     "text": [
      "Epoch 35 | Training Loss: total-0.0395 classification-0.0215 segmentation-0.6126 | Acc: 0.9767 | F1: 0.9910 | Recall: 0.9910 | Precision: 0.9910\n"
     ]
    },
    {
     "name": "stderr",
     "output_type": "stream",
     "text": [
      "100%|██████████| 25/25 [00:08<00:00,  3.00it/s]\n"
     ]
    },
    {
     "name": "stdout",
     "output_type": "stream",
     "text": [
      "Epoch 35 | Validation Loss: classification-0.0731 segmentation-0.6525 | Acc: 0.9742 | F1: 0.9688|  Recall: 0.9765 | Precision: 0.9618\n"
     ]
    },
    {
     "name": "stderr",
     "output_type": "stream",
     "text": [
      "100%|██████████| 111/111 [01:17<00:00,  1.43it/s]\n"
     ]
    },
    {
     "name": "stdout",
     "output_type": "stream",
     "text": [
      "Epoch 36 | Training Loss: total-0.0244 classification-0.0105 segmentation-0.6064 | Acc: 0.9812 | F1: 0.9970 | Recall: 0.9985 | Precision: 0.9955\n"
     ]
    },
    {
     "name": "stderr",
     "output_type": "stream",
     "text": [
      "100%|██████████| 25/25 [00:08<00:00,  3.04it/s]\n"
     ]
    },
    {
     "name": "stdout",
     "output_type": "stream",
     "text": [
      "Epoch 36 | Validation Loss: classification-0.0732 segmentation-0.6567 | Acc: 0.9742 | F1: 0.9688|  Recall: 0.9765 | Precision: 0.9618\n"
     ]
    },
    {
     "name": "stderr",
     "output_type": "stream",
     "text": [
      "100%|██████████| 111/111 [01:17<00:00,  1.44it/s]\n"
     ]
    },
    {
     "name": "stdout",
     "output_type": "stream",
     "text": [
      "Epoch 37 | Training Loss: total-0.0230 classification-0.0120 segmentation-0.6094 | Acc: 0.9801 | F1: 0.9955 | Recall: 0.9978 | Precision: 0.9933\n"
     ]
    },
    {
     "name": "stderr",
     "output_type": "stream",
     "text": [
      "100%|██████████| 25/25 [00:08<00:00,  2.97it/s]\n"
     ]
    },
    {
     "name": "stdout",
     "output_type": "stream",
     "text": [
      "Epoch 37 | Validation Loss: classification-0.0705 segmentation-0.6508 | Acc: 0.9845 | F1: 0.9811|  Recall: 0.9837 | Precision: 0.9785\n"
     ]
    },
    {
     "name": "stderr",
     "output_type": "stream",
     "text": [
      "100%|██████████| 111/111 [01:16<00:00,  1.45it/s]\n"
     ]
    },
    {
     "name": "stdout",
     "output_type": "stream",
     "text": [
      "Epoch 38 | Training Loss: total-0.0211 classification-0.0127 segmentation-0.6004 | Acc: 0.9812 | F1: 0.9970 | Recall: 0.9970 | Precision: 0.9970\n"
     ]
    },
    {
     "name": "stderr",
     "output_type": "stream",
     "text": [
      "100%|██████████| 25/25 [00:08<00:00,  2.92it/s]\n"
     ]
    },
    {
     "name": "stdout",
     "output_type": "stream",
     "text": [
      "Epoch 38 | Validation Loss: classification-0.0696 segmentation-0.6518 | Acc: 0.9845 | F1: 0.9811|  Recall: 0.9837 | Precision: 0.9785\n"
     ]
    },
    {
     "name": "stderr",
     "output_type": "stream",
     "text": [
      "100%|██████████| 111/111 [01:17<00:00,  1.44it/s]\n"
     ]
    },
    {
     "name": "stdout",
     "output_type": "stream",
     "text": [
      "Epoch 39 | Training Loss: total-0.0184 classification-0.0117 segmentation-0.6154 | Acc: 0.9823 | F1: 0.9985 | Recall: 0.9977 | Precision: 0.9993\n"
     ]
    },
    {
     "name": "stderr",
     "output_type": "stream",
     "text": [
      "100%|██████████| 25/25 [00:08<00:00,  3.03it/s]\n"
     ]
    },
    {
     "name": "stdout",
     "output_type": "stream",
     "text": [
      "Epoch 39 | Validation Loss: classification-0.0641 segmentation-0.6521 | Acc: 0.9742 | F1: 0.9688|  Recall: 0.9765 | Precision: 0.9618\n"
     ]
    },
    {
     "name": "stderr",
     "output_type": "stream",
     "text": [
      "100%|██████████| 111/111 [01:16<00:00,  1.45it/s]\n"
     ]
    },
    {
     "name": "stdout",
     "output_type": "stream",
     "text": [
      "Epoch 40 | Training Loss: total-0.0165 classification-0.0113 segmentation-0.6041 | Acc: 0.9801 | F1: 0.9955 | Recall: 0.9962 | Precision: 0.9947\n"
     ]
    },
    {
     "name": "stderr",
     "output_type": "stream",
     "text": [
      "100%|██████████| 25/25 [00:08<00:00,  3.03it/s]\n"
     ]
    },
    {
     "name": "stdout",
     "output_type": "stream",
     "text": [
      "Epoch 40 | Validation Loss: classification-0.0677 segmentation-0.6499 | Acc: 0.9794 | F1: 0.9746|  Recall: 0.9746 | Precision: 0.9746\n"
     ]
    },
    {
     "name": "stderr",
     "output_type": "stream",
     "text": [
      "100%|██████████| 111/111 [01:17<00:00,  1.44it/s]\n"
     ]
    },
    {
     "name": "stdout",
     "output_type": "stream",
     "text": [
      "Epoch 41 | Training Loss: total-0.0110 classification-0.0069 segmentation-0.6203 | Acc: 0.9823 | F1: 0.9985 | Recall: 0.9993 | Precision: 0.9977\n"
     ]
    },
    {
     "name": "stderr",
     "output_type": "stream",
     "text": [
      "100%|██████████| 25/25 [00:08<00:00,  2.95it/s]\n"
     ]
    },
    {
     "name": "stdout",
     "output_type": "stream",
     "text": [
      "Epoch 41 | Validation Loss: classification-0.0652 segmentation-0.6510 | Acc: 0.9742 | F1: 0.9688|  Recall: 0.9765 | Precision: 0.9618\n"
     ]
    },
    {
     "name": "stderr",
     "output_type": "stream",
     "text": [
      "100%|██████████| 111/111 [01:15<00:00,  1.47it/s]\n"
     ]
    },
    {
     "name": "stdout",
     "output_type": "stream",
     "text": [
      "Epoch 42 | Training Loss: total-0.0156 classification-0.0114 segmentation-0.6173 | Acc: 0.9790 | F1: 0.9940 | Recall: 0.9955 | Precision: 0.9925\n"
     ]
    },
    {
     "name": "stderr",
     "output_type": "stream",
     "text": [
      "100%|██████████| 25/25 [00:08<00:00,  2.95it/s]\n"
     ]
    },
    {
     "name": "stdout",
     "output_type": "stream",
     "text": [
      "Epoch 42 | Validation Loss: classification-0.0712 segmentation-0.6543 | Acc: 0.9742 | F1: 0.9688|  Recall: 0.9765 | Precision: 0.9618\n"
     ]
    },
    {
     "name": "stderr",
     "output_type": "stream",
     "text": [
      "100%|██████████| 111/111 [01:17<00:00,  1.44it/s]\n"
     ]
    },
    {
     "name": "stdout",
     "output_type": "stream",
     "text": [
      "Epoch 43 | Training Loss: total-0.0091 classification-0.0051 segmentation-0.5945 | Acc: 0.9834 | F1: 1.0000 | Recall: 1.0000 | Precision: 1.0000\n"
     ]
    },
    {
     "name": "stderr",
     "output_type": "stream",
     "text": [
      "100%|██████████| 25/25 [00:08<00:00,  3.03it/s]\n"
     ]
    },
    {
     "name": "stdout",
     "output_type": "stream",
     "text": [
      "Epoch 43 | Validation Loss: classification-0.0724 segmentation-0.6536 | Acc: 0.9742 | F1: 0.9688|  Recall: 0.9765 | Precision: 0.9618\n"
     ]
    },
    {
     "name": "stderr",
     "output_type": "stream",
     "text": [
      "100%|██████████| 111/111 [01:16<00:00,  1.45it/s]\n"
     ]
    },
    {
     "name": "stdout",
     "output_type": "stream",
     "text": [
      "Epoch 44 | Training Loss: total-0.0082 classification-0.0041 segmentation-0.6127 | Acc: 0.9834 | F1: 1.0000 | Recall: 1.0000 | Precision: 1.0000\n"
     ]
    },
    {
     "name": "stderr",
     "output_type": "stream",
     "text": [
      "100%|██████████| 25/25 [00:08<00:00,  2.94it/s]\n"
     ]
    },
    {
     "name": "stdout",
     "output_type": "stream",
     "text": [
      "Epoch 44 | Validation Loss: classification-0.0677 segmentation-0.6515 | Acc: 0.9794 | F1: 0.9746|  Recall: 0.9746 | Precision: 0.9746\n"
     ]
    },
    {
     "name": "stderr",
     "output_type": "stream",
     "text": [
      "100%|██████████| 111/111 [01:16<00:00,  1.45it/s]\n"
     ]
    },
    {
     "name": "stdout",
     "output_type": "stream",
     "text": [
      "Epoch 45 | Training Loss: total-0.0097 classification-0.0057 segmentation-0.6032 | Acc: 0.9812 | F1: 0.9970 | Recall: 0.9970 | Precision: 0.9970\n"
     ]
    },
    {
     "name": "stderr",
     "output_type": "stream",
     "text": [
      "100%|██████████| 25/25 [00:08<00:00,  3.06it/s]\n"
     ]
    },
    {
     "name": "stdout",
     "output_type": "stream",
     "text": [
      "Epoch 45 | Validation Loss: classification-0.0662 segmentation-0.6522 | Acc: 0.9742 | F1: 0.9688|  Recall: 0.9765 | Precision: 0.9618\n"
     ]
    },
    {
     "name": "stderr",
     "output_type": "stream",
     "text": [
      "100%|██████████| 111/111 [01:16<00:00,  1.44it/s]\n"
     ]
    },
    {
     "name": "stdout",
     "output_type": "stream",
     "text": [
      "Epoch 46 | Training Loss: total-0.0089 classification-0.0049 segmentation-0.6010 | Acc: 0.9823 | F1: 0.9985 | Recall: 0.9977 | Precision: 0.9993\n"
     ]
    },
    {
     "name": "stderr",
     "output_type": "stream",
     "text": [
      "100%|██████████| 25/25 [00:08<00:00,  3.03it/s]\n"
     ]
    },
    {
     "name": "stdout",
     "output_type": "stream",
     "text": [
      "Epoch 46 | Validation Loss: classification-0.0678 segmentation-0.6536 | Acc: 0.9742 | F1: 0.9685|  Recall: 0.9710 | Precision: 0.9660\n"
     ]
    },
    {
     "name": "stderr",
     "output_type": "stream",
     "text": [
      "100%|██████████| 111/111 [01:16<00:00,  1.45it/s]\n"
     ]
    },
    {
     "name": "stdout",
     "output_type": "stream",
     "text": [
      "Epoch 47 | Training Loss: total-0.0068 classification-0.0027 segmentation-0.6130 | Acc: 0.9834 | F1: 1.0000 | Recall: 1.0000 | Precision: 1.0000\n"
     ]
    },
    {
     "name": "stderr",
     "output_type": "stream",
     "text": [
      "100%|██████████| 25/25 [00:08<00:00,  3.04it/s]\n"
     ]
    },
    {
     "name": "stdout",
     "output_type": "stream",
     "text": [
      "Epoch 47 | Validation Loss: classification-0.0704 segmentation-0.6547 | Acc: 0.9742 | F1: 0.9685|  Recall: 0.9710 | Precision: 0.9660\n"
     ]
    },
    {
     "name": "stderr",
     "output_type": "stream",
     "text": [
      "100%|██████████| 111/111 [01:16<00:00,  1.45it/s]\n"
     ]
    },
    {
     "name": "stdout",
     "output_type": "stream",
     "text": [
      "Epoch 48 | Training Loss: total-0.0080 classification-0.0039 segmentation-0.6108 | Acc: 0.9823 | F1: 0.9985 | Recall: 0.9993 | Precision: 0.9977\n"
     ]
    },
    {
     "name": "stderr",
     "output_type": "stream",
     "text": [
      "100%|██████████| 25/25 [00:08<00:00,  2.99it/s]\n"
     ]
    },
    {
     "name": "stdout",
     "output_type": "stream",
     "text": [
      "Epoch 48 | Validation Loss: classification-0.0701 segmentation-0.6555 | Acc: 0.9742 | F1: 0.9688|  Recall: 0.9765 | Precision: 0.9618\n"
     ]
    },
    {
     "name": "stderr",
     "output_type": "stream",
     "text": [
      "100%|██████████| 111/111 [01:16<00:00,  1.45it/s]\n"
     ]
    },
    {
     "name": "stdout",
     "output_type": "stream",
     "text": [
      "Epoch 49 | Training Loss: total-0.0066 classification-0.0025 segmentation-0.6152 | Acc: 0.9834 | F1: 1.0000 | Recall: 1.0000 | Precision: 1.0000\n"
     ]
    },
    {
     "name": "stderr",
     "output_type": "stream",
     "text": [
      "100%|██████████| 25/25 [00:08<00:00,  3.03it/s]\n"
     ]
    },
    {
     "name": "stdout",
     "output_type": "stream",
     "text": [
      "Epoch 49 | Validation Loss: classification-0.0697 segmentation-0.6541 | Acc: 0.9691 | F1: 0.9623|  Recall: 0.9674 | Precision: 0.9576\n"
     ]
    },
    {
     "name": "stderr",
     "output_type": "stream",
     "text": [
      "100%|██████████| 111/111 [01:15<00:00,  1.46it/s]\n"
     ]
    },
    {
     "name": "stdout",
     "output_type": "stream",
     "text": [
      "Epoch 50 | Training Loss: total-0.0071 classification-0.0030 segmentation-0.6182 | Acc: 0.9834 | F1: 1.0000 | Recall: 1.0000 | Precision: 1.0000\n"
     ]
    },
    {
     "name": "stderr",
     "output_type": "stream",
     "text": [
      "100%|██████████| 25/25 [00:08<00:00,  2.95it/s]\n"
     ]
    },
    {
     "name": "stdout",
     "output_type": "stream",
     "text": [
      "Epoch 50 | Validation Loss: classification-0.0694 segmentation-0.6516 | Acc: 0.9639 | F1: 0.9558|  Recall: 0.9583 | Precision: 0.9534\n"
     ]
    },
    {
     "name": "stderr",
     "output_type": "stream",
     "text": [
      "100%|██████████| 111/111 [01:16<00:00,  1.46it/s]\n"
     ]
    },
    {
     "name": "stdout",
     "output_type": "stream",
     "text": [
      "Epoch 51 | Training Loss: total-0.0062 classification-0.0021 segmentation-0.6153 | Acc: 0.9834 | F1: 1.0000 | Recall: 1.0000 | Precision: 1.0000\n"
     ]
    },
    {
     "name": "stderr",
     "output_type": "stream",
     "text": [
      "100%|██████████| 25/25 [00:08<00:00,  3.10it/s]\n"
     ]
    },
    {
     "name": "stdout",
     "output_type": "stream",
     "text": [
      "Epoch 51 | Validation Loss: classification-0.0677 segmentation-0.6543 | Acc: 0.9742 | F1: 0.9688|  Recall: 0.9765 | Precision: 0.9618\n"
     ]
    },
    {
     "name": "stderr",
     "output_type": "stream",
     "text": [
      "100%|██████████| 111/111 [01:16<00:00,  1.46it/s]\n"
     ]
    },
    {
     "name": "stdout",
     "output_type": "stream",
     "text": [
      "Epoch 52 | Training Loss: total-0.0064 classification-0.0023 segmentation-0.6204 | Acc: 0.9834 | F1: 1.0000 | Recall: 1.0000 | Precision: 1.0000\n"
     ]
    },
    {
     "name": "stderr",
     "output_type": "stream",
     "text": [
      "100%|██████████| 25/25 [00:08<00:00,  3.07it/s]\n"
     ]
    },
    {
     "name": "stdout",
     "output_type": "stream",
     "text": [
      "Epoch 52 | Validation Loss: classification-0.0666 segmentation-0.6532 | Acc: 0.9742 | F1: 0.9688|  Recall: 0.9765 | Precision: 0.9618\n"
     ]
    },
    {
     "name": "stderr",
     "output_type": "stream",
     "text": [
      "100%|██████████| 111/111 [01:15<00:00,  1.47it/s]\n"
     ]
    },
    {
     "name": "stdout",
     "output_type": "stream",
     "text": [
      "Epoch 53 | Training Loss: total-0.0064 classification-0.0023 segmentation-0.6084 | Acc: 0.9834 | F1: 1.0000 | Recall: 1.0000 | Precision: 1.0000\n"
     ]
    },
    {
     "name": "stderr",
     "output_type": "stream",
     "text": [
      "100%|██████████| 25/25 [00:08<00:00,  3.09it/s]\n"
     ]
    },
    {
     "name": "stdout",
     "output_type": "stream",
     "text": [
      "Epoch 53 | Validation Loss: classification-0.0745 segmentation-0.6519 | Acc: 0.9742 | F1: 0.9688|  Recall: 0.9765 | Precision: 0.9618\n"
     ]
    },
    {
     "name": "stderr",
     "output_type": "stream",
     "text": [
      "100%|██████████| 111/111 [01:15<00:00,  1.46it/s]\n"
     ]
    },
    {
     "name": "stdout",
     "output_type": "stream",
     "text": [
      "Epoch 54 | Training Loss: total-0.0071 classification-0.0030 segmentation-0.6061 | Acc: 0.9823 | F1: 0.9985 | Recall: 0.9993 | Precision: 0.9977\n"
     ]
    },
    {
     "name": "stderr",
     "output_type": "stream",
     "text": [
      "100%|██████████| 25/25 [00:08<00:00,  3.05it/s]\n"
     ]
    },
    {
     "name": "stdout",
     "output_type": "stream",
     "text": [
      "Epoch 54 | Validation Loss: classification-0.0703 segmentation-0.6508 | Acc: 0.9691 | F1: 0.9623|  Recall: 0.9674 | Precision: 0.9576\n"
     ]
    },
    {
     "name": "stderr",
     "output_type": "stream",
     "text": [
      "100%|██████████| 111/111 [01:26<00:00,  1.28it/s]\n"
     ]
    },
    {
     "name": "stdout",
     "output_type": "stream",
     "text": [
      "Epoch 55 | Training Loss: total-0.0063 classification-0.0023 segmentation-0.6106 | Acc: 0.9834 | F1: 1.0000 | Recall: 1.0000 | Precision: 1.0000\n"
     ]
    },
    {
     "name": "stderr",
     "output_type": "stream",
     "text": [
      "100%|██████████| 25/25 [00:08<00:00,  3.12it/s]\n"
     ]
    },
    {
     "name": "stdout",
     "output_type": "stream",
     "text": [
      "Epoch 55 | Validation Loss: classification-0.0761 segmentation-0.6518 | Acc: 0.9794 | F1: 0.9749|  Recall: 0.9801 | Precision: 0.9700\n"
     ]
    },
    {
     "name": "stderr",
     "output_type": "stream",
     "text": [
      "100%|██████████| 111/111 [01:16<00:00,  1.45it/s]\n"
     ]
    },
    {
     "name": "stdout",
     "output_type": "stream",
     "text": [
      "Epoch 56 | Training Loss: total-0.0078 classification-0.0037 segmentation-0.6165 | Acc: 0.9834 | F1: 1.0000 | Recall: 1.0000 | Precision: 1.0000\n"
     ]
    },
    {
     "name": "stderr",
     "output_type": "stream",
     "text": [
      "100%|██████████| 25/25 [00:08<00:00,  3.06it/s]\n"
     ]
    },
    {
     "name": "stdout",
     "output_type": "stream",
     "text": [
      "Epoch 56 | Validation Loss: classification-0.0712 segmentation-0.6502 | Acc: 0.9742 | F1: 0.9685|  Recall: 0.9710 | Precision: 0.9660\n",
      "Epoch 56 early stopping\n"
     ]
    },
    {
     "data": {
      "image/png": "[encoded data removed]",
      "text/plain": [
       "<Figure size 640x480 with 1 Axes>"
      ]
     },
     "metadata": {},
     "output_type": "display_data"
    },
    {
     "data": {
      "image/png": "[encoded data removed]",
      "text/plain": [
       "<Figure size 640x480 with 1 Axes>"
      ]
     },
     "metadata": {},
     "output_type": "display_data"
    },
    {
     "data": {
      "image/png": "[encoded data removed]",
      "text/plain": [
       "<Figure size 640x480 with 1 Axes>"
      ]
     },
     "metadata": {},
     "output_type": "display_data"
    },
    {
     "data": {
      "image/png": "[encoded data removed]",
      "text/plain": [
       "<Figure size 640x480 with 1 Axes>"
      ]
     },
     "metadata": {},
     "output_type": "display_data"
    },
    {
     "data": {
      "image/png": "[encoded data removed]",
      "text/plain": [
       "<Figure size 640x480 with 1 Axes>"
      ]
     },
     "metadata": {},
     "output_type": "display_data"
    },
    {
     "data": {
      "image/png": "[encoded data removed]",
      "text/plain": [
       "<Figure size 640x480 with 2 Axes>"
      ]
     },
     "metadata": {},
     "output_type": "display_data"
    }
   ],
   "source": [
    "# train\n",
    "checkpoint_dir_name = 'multitask_2classes_FPN_resnext101_dice_weightedlossadjuster_202308131522'\n",
    "train_model(train_loader, val_loader, model, epochs, checkpoint_dir_name)\n",
    "\n",
    "\n",
    "# save the model (only the weights)\n",
    "torch.save(model.state_dict(), 'multitask_2classes_FPN_resnext101_dice_weightedlossadjuster_202308131522\\model_saved.pth')\n"
   ]
  },
  {
   "cell_type": "code",
   "execution_count": 106,
   "id": "a1541809-4510-4761-9593-fc283d49d3f3",
   "metadata": {
    "tags": []
   },
   "outputs": [
    {
     "data": {
      "text/plain": [
       "<All keys matched successfully>"
      ]
     },
     "execution_count": 106,
     "metadata": {},
     "output_type": "execute_result"
    }
   ],
   "source": [
    "load_model_path = r'C:\\Users\\user\\Downloads\\Susan_project\\multitask_2classes_FPN_resnext101_dice_202308121840\\checkpoint-0.931-47.pth'\n",
    "model.load_state_dict(torch.load(load_model_path))"
   ]
  },
  {
   "cell_type": "code",
   "execution_count": null,
   "id": "d67b7585-eece-416e-953e-0efbff4118a3",
   "metadata": {},
   "outputs": [],
   "source": [
    "# 0 black 149 orange 222 yellow 178 blue 75 red"
   ]
  },
  {
   "cell_type": "markdown",
   "id": "a55bb16e-70e6-4b7c-a7f0-02d89f1f2136",
   "metadata": {},
   "source": [
    "Following 2 cells are for testing the style of images"
   ]
  },
  {
   "cell_type": "code",
   "execution_count": 77,
   "id": "9b6f0edc-adb3-4bd4-9f15-d41b913c4f7b",
   "metadata": {
    "tags": []
   },
   "outputs": [
    {
     "name": "stdout",
     "output_type": "stream",
     "text": [
      "(563, 564)\n",
      "(564, 563)\n",
      "[  0  75 149 178 222]\n"
     ]
    }
   ],
   "source": [
    "mask = np.asarray(Image.open(r'C:\\Users\\user\\Downloads\\Susan_project\\cleaned_masks\\0-0722-HD367-Disc-RE.png').convert(\"L\"))\n",
    "mask_ = Image.open(r'C:\\Users\\user\\Downloads\\Susan_project\\cleaned_masks\\0-0722-HD367-Disc-RE.png').convert(\"L\")\n",
    "img = Image.open(r'C:\\Users\\user\\Downloads\\Susan_project\\images\\0-0722-HD367-Disc-RE.png').convert(\"RGB\")\n",
    "print(mask.shape)\n",
    "print(mask_.size)\n",
    "print(np.unique(mask.reshape(-1, 1)))"
   ]
  },
  {
   "cell_type": "code",
   "execution_count": 31,
   "id": "629bd66c-bc75-424e-8dac-612a5a902bf9",
   "metadata": {
    "tags": []
   },
   "outputs": [
    {
     "name": "stdout",
     "output_type": "stream",
     "text": [
      "[[0 0 0 ... 0 0 0]\n",
      " [0 0 0 ... 0 0 0]\n",
      " [0 0 0 ... 0 0 0]\n",
      " ...\n",
      " [0 0 0 ... 0 0 0]\n",
      " [0 0 0 ... 0 0 0]\n",
      " [0 0 0 ... 0 0 0]]\n",
      "[  0 149 178 222]\n",
      "tensor([0.0000, 0.5843, 0.6980, 0.8706])\n"
     ]
    }
   ],
   "source": [
    "mask = np.asarray(Image.open(r'C:\\Users\\user\\Downloads\\Susan_project\\cleaned_masks\\0-SNANUH0153-Optic Disc Cube 200x200-RE.Enface.png').convert(\"L\"))\n",
    "print(mask)\n",
    "print(np.unique(mask.reshape(-1, 1)))\n",
    "\n",
    "trans = transforms.Compose([transforms.Resize(256, interpolation=transforms.InterpolationMode.NEAREST_EXACT), transforms.ToTensor()])\n",
    "print(torch.unique(trans(Image.open(r'C:\\Users\\user\\Downloads\\Susan_project\\cleaned_masks\\0-SNANUH0153-Optic Disc Cube 200x200-RE.Enface.png').convert(\"L\"))))"
   ]
  },
  {
   "cell_type": "code",
   "execution_count": 19,
   "id": "8ebdf5f7-c192-499e-a2aa-2558b3babbf6",
   "metadata": {
    "tags": []
   },
   "outputs": [],
   "source": [
    "# If folder doesn't exists, create it #\n",
    "fmask_dir = 'fake_mask'\n",
    "if not os.path.isdir(fmask_dir):\n",
    "    os.mkdir(fmask_dir)"
   ]
  },
  {
   "cell_type": "code",
   "execution_count": 27,
   "id": "7f280740-7275-43b4-b7fd-78f1d7436c17",
   "metadata": {
    "tags": []
   },
   "outputs": [
    {
     "name": "stderr",
     "output_type": "stream",
     "text": [
      "100%|██████████| 25/25 [00:08<00:00,  2.80it/s]\n"
     ]
    }
   ],
   "source": [
    "# test the generated mask\n",
    "#fmask_dir = 'fake_mask'\n",
    "model = model.to(device)\n",
    "model.eval()\n",
    "with torch.no_grad():\n",
    "    for item in tqdm(val_loader):\n",
    "        inputs, targets = item['image'].to(device), item['mask'].to(device)\n",
    "        filename = item['filename']\n",
    "        \n",
    "        outputs,_ = model(inputs)\n",
    "        _, output_toprint = torch.max(outputs, 1)\n",
    "        np_fmask = output_toprint.detach().cpu().numpy()\n",
    "        #print(np_fmask)\n",
    "        \n",
    "        _, np_mask = torch.max(item['mask'], 1)\n",
    "        np_mask = np_mask.numpy()\n",
    "        \n",
    "        #print(np_mask[:, 75:175, 75:175])\n",
    "        \n",
    "        #print(np_fmask.shape)\n",
    "        for idx in range(len(np_fmask)):\n",
    "            #print(fm.shape)\n",
    "            \n",
    "            #print(np.unique(np_fmask[idx].reshape(-1, 1)))\n",
    "            #print(idx)\n",
    "            #print(np.unique(np_mask[idx].reshape(-1, 1)))\n",
    "            #print(np.unique(np_fmask[idx].reshape(-1, 1)))\n",
    "            #print(np_fmask[idx][75:125, 75:125])\n",
    "            im = Image.fromarray((np_mask[idx]*63).astype(\"uint8\"))\n",
    "            #im.show()\n",
    "            new_path = os.path.join(fmask_dir, filename[idx])\n",
    "            im.save(new_path)"
   ]
  },
  {
   "cell_type": "code",
   "execution_count": 28,
   "id": "037ed804-3c6a-4a76-8b6b-36ac2768f85b",
   "metadata": {
    "tags": []
   },
   "outputs": [
    {
     "name": "stderr",
     "output_type": "stream",
     "text": [
      "100%|██████████| 25/25 [00:08<00:00,  3.00it/s]\n"
     ]
    }
   ],
   "source": [
    "# test the generated mask\n",
    "fmask_dir = 'fake_mask'\n",
    "model = model.to(device)\n",
    "model.eval()\n",
    "with torch.no_grad():\n",
    "    for item in tqdm(val_loader):\n",
    "        inputs, targets = item['image'].to(device), item['mask'].to(device)\n",
    "        filename = item['filename']\n",
    "        \n",
    "        outputs,_ = model(inputs)\n",
    "        _, output_toprint = torch.max(outputs, 1)\n",
    "        np_fmask = output_toprint.detach().cpu().numpy()\n",
    "        #print(np_fmask)\n",
    "        \n",
    "        np_mask = item['mask'].numpy()\n",
    "        #print(np_mask[0], filename[0])\n",
    "        \n",
    "        #print(np_fmask.shape)\n",
    "        for idx in range(len(np_fmask)):\n",
    "            #print(fm.shape)\n",
    "            \n",
    "            #print(np.unique(np_fmask[idx].reshape(-1, 1)))\n",
    "            im = Image.fromarray((np_fmask[idx]*63).astype(\"uint8\"))\n",
    "            #im.show()\n",
    "            tmp = '-'.join(['fake', filename[idx]])\n",
    "            new_path = os.path.join(fmask_dir, tmp)\n",
    "            im.save(new_path)"
   ]
  },
  {
   "cell_type": "code",
   "execution_count": 68,
   "id": "81bccb47",
   "metadata": {
    "tags": []
   },
   "outputs": [],
   "source": [
    "# make prediction\n",
    "def make_predictions(model, test_data):\n",
    "    model.eval()\n",
    "    test_labels = []\n",
    "    test_preds = []\n",
    "    #criterion = nn.CrossEntropyLoss()\n",
    "    \n",
    "    with torch.no_grad():\n",
    "        \n",
    "        for item in tqdm(test_data):\n",
    "            \n",
    "            test_labels.extend(item['label'].numpy())\n",
    "            test_inputs, test_targets = item['image'].to(device), item['label'].to(device)\n",
    "            _, test_outputs = model(test_inputs)\n",
    "            #print(\"test:\", test_outputs)\n",
    "                \n",
    "            _, test_pred = torch.max(test_outputs, 1)\n",
    "            test_preds.extend(test_pred.detach().cpu().numpy())\n",
    "            \n",
    "        \n",
    "        # confusion matrix of the last time\n",
    "        test_cfmtx = confusion_matrix(test_labels, test_preds)\n",
    "        #print(val_cfmtx.type)\n",
    "        test_cfmtxn = test_cfmtx.astype('float') / test_cfmtx.sum(axis=1)[:, np.newaxis]\n",
    "        sns.heatmap(test_cfmtxn, annot=True, fmt='.2%', cmap='Blues')\n",
    "    \n",
    "    return {\n",
    "        'groundtruth':test_labels,\n",
    "        'predictions':test_preds\n",
    "    }\n",
    "\n"
   ]
  },
  {
   "cell_type": "code",
   "execution_count": 57,
   "id": "a27683ab",
   "metadata": {
    "tags": []
   },
   "outputs": [],
   "source": [
    "# create a csv file to record the wrongly predicted ones\n",
    "def load_error_record(ds, predicts):\n",
    "    with open('error_record.csv', 'w', newline='') as csvfile:\n",
    "    \n",
    "        fieldnames = ['filename', 'true_label', 'predicted_label']\n",
    "        writer = csv.DictWriter(csvfile, fieldnames=fieldnames)\n",
    "\n",
    "        writer.writeheader()\n",
    "    \n",
    "        for i in range(len(ds)):\n",
    "            if predicts['groundtruth'][i] != predicts['predictions'][i]:\n",
    "                writer.writerow({'filename': ds.load_gradcam_item(i)['filename'], 'true_label':predicts['groundtruth'][i], 'predicted_label': predicts['predictions'][i]})\n",
    "\n",
    "    csvfile.close()\n",
    "\n",
    "            "
   ]
  },
  {
   "cell_type": "code",
   "execution_count": 58,
   "id": "2eaf1384",
   "metadata": {
    "tags": []
   },
   "outputs": [],
   "source": [
    "            \n",
    "#grad cam\n",
    "def show_gradcam(model, target_layers, desired_ds, predictions, true_labels=True):\n",
    "    '''\n",
    "    Parameters\n",
    "    ----------\n",
    "    model : \n",
    "        The model to be used.\n",
    "    target_layers : \n",
    "        target layers... for resnet50 it's layer4\n",
    "    use_cuda : Boolean, optional\n",
    "        Whether to use cuda. The default is True.\n",
    "    desired_ds : MyDataset class\n",
    "        Which dataset want to use.\n",
    "    true_labels : Boolean, optional\n",
    "        Whether compare to true label. The default is False.\n",
    "\n",
    "    Returns\n",
    "    -------\n",
    "    None.\n",
    "\n",
    "    '''\n",
    "    # can obtain RBG img and tensor and label from Mydataset function load_gradcam_item\n",
    "    # take validation as example\n",
    "    with GradCAM(model=model, target_layers=target_layers, use_cuda=torch.cuda.is_available()) as cam:\n",
    "        \n",
    "        # save it to a new folder\n",
    "        dire = \"gradcam_figures\"\n",
    "        # If folder doesn't exists, create it ##\n",
    "        if not os.path.isdir(dire):\n",
    "            os.mkdir(dire)\n",
    "        \n",
    "    \n",
    "        for i in range(len(desired_ds)):\n",
    "            if true_labels:\n",
    "                targets = [ClassifierOutputTarget(category) for category in np.array([desired_ds.load_gradcam_item(i)['label']])]\n",
    "                #print(np.array([desired_ds.load_gradcam_item(i)['label']]))\n",
    "                grayscale_cam = cam(input_tensor=desired_ds.load_gradcam_item(i)['tensor'].unsqueeze(0), targets=targets)\n",
    "            else: \n",
    "                preds = [ClassifierOutputTarget(category) for category in np.array([predictions['predictions'][i]])]\n",
    "                #print(desired_ds.load_gradcam_item(i)['tensor'].unsqueeze(0))\n",
    "                grayscale_cam = cam(input_tensor=desired_ds.load_gradcam_item(i)['tensor'].unsqueeze(0), targets=preds)\n",
    "                \n",
    "            # load the crop size also\n",
    "            crop_size = desired_ds.load_gradcam_item(i)['cropsize']\n",
    "            \n",
    "            grayscale_cam = grayscale_cam[0, :, :]\n",
    "            img = transforms.CenterCrop(crop_size)(desired_ds.load_gradcam_item(i)['image'])\n",
    "            img = transforms.Resize(288)(img) #288\n",
    "            img = (img - np.min(img)) / (np.max(img) - np.min(img))\n",
    "            visualization = show_cam_on_image(img, grayscale_cam, use_rgb=True)\n",
    "            pImg = Image.fromarray(visualization, 'RGB')\n",
    "            #break    \n",
    "    \n",
    "    \n",
    "            # adjust the filename\n",
    "            fn = desired_ds.load_gradcam_item(i)['filename']\n",
    "            if true_labels:\n",
    "                new_fn = ''.join(['true-', fn])\n",
    "            else:\n",
    "                # need the predictions to form the figures\n",
    "                fn = ''.join([str(predictions['predictions'][i]), fn[1:]])\n",
    "                new_fn = ''.join(['predicted-', fn])\n",
    "            #print(new_fn)\n",
    "            new_fn = os.path.join(dire, new_fn)\n",
    "            #print(new_fn)\n",
    "            #pImg.save(new_fn)\n",
    "            \n",
    "            if desired_ds.load_gradcam_item(i)['label'] != predictions['predictions'][i]:\n",
    "                #print('Mismatch!',desired_ds.load_gradcam_item(i)['label'], predictions['predictions'][i])\n",
    "                pImg.save(new_fn)\n",
    "            #else:\n",
    "                #print('Correct!',desired_ds.load_gradcam_item(i)['label'], predictions['predictions'][i])\n",
    "            #break\n",
    "            \n",
    "    load_error_record(desired_ds, predictions)\n",
    "    "
   ]
  },
  {
   "cell_type": "code",
   "execution_count": 122,
   "id": "7f00a1ad",
   "metadata": {
    "tags": []
   },
   "outputs": [],
   "source": [
    "class ClassificationModel(nn.Module):\n",
    "    def __init__(self, model, load_model_path):\n",
    "        super(ClassificationModel, self).__init__()\n",
    "        self.model = model\n",
    "        model.load_state_dict(torch.load(load_model_path))\n",
    "        self.encoder = model.encoder\n",
    "        #print(model.encoder.out_channels)\n",
    "        #self.decoder = decoder\n",
    "        self.classification_head = model.classification_head\n",
    "\n",
    "        \n",
    "    def forward(self, x):\n",
    "        x1 = self.encoder(x)\n",
    "        #print(x1[-1])\n",
    "        #x2 = torch.flatten(x1, 1)\n",
    "        x2 = self.classification_head(x1[-1])\n",
    "        return x2"
   ]
  },
  {
   "cell_type": "code",
   "execution_count": 123,
   "id": "14a76225-323f-4617-9d7c-85b5af9e1f2c",
   "metadata": {
    "tags": []
   },
   "outputs": [],
   "source": [
    "#load_model_path = r'C:\\Users\\user\\Downloads\\Susan_project\\multitask_efficientnetb0_checkpoints_20230725_celoss_test\\checkpoint-0.985-42.pth'\n",
    "c_model = ClassificationModel(model, load_model_path)\n",
    "#print(c_model.state_dict())"
   ]
  },
  {
   "cell_type": "code",
   "execution_count": 124,
   "id": "60d6bc08",
   "metadata": {
    "tags": []
   },
   "outputs": [
    {
     "name": "stdout",
     "output_type": "stream",
     "text": [
      "[Bottleneck(\n",
      "  (conv1): Conv2d(2048, 2048, kernel_size=(1, 1), stride=(1, 1), bias=False)\n",
      "  (bn1): BatchNorm2d(2048, eps=1e-05, momentum=0.1, affine=True, track_running_stats=True)\n",
      "  (conv2): Conv2d(2048, 2048, kernel_size=(3, 3), stride=(1, 1), padding=(1, 1), groups=32, bias=False)\n",
      "  (bn2): BatchNorm2d(2048, eps=1e-05, momentum=0.1, affine=True, track_running_stats=True)\n",
      "  (conv3): Conv2d(2048, 2048, kernel_size=(1, 1), stride=(1, 1), bias=False)\n",
      "  (bn3): BatchNorm2d(2048, eps=1e-05, momentum=0.1, affine=True, track_running_stats=True)\n",
      "  (relu): ReLU(inplace=True)\n",
      ")]\n"
     ]
    }
   ],
   "source": [
    "#target_layers = [model_ft.layer4[-1]]\n",
    "#target_layers = [model_ft.features[-1]]\n",
    "c_model = c_model.to(device)\n",
    "#target_layers = [c_model.encoder._conv_head]\n",
    "#target_layers = [c_model.encoder._blocks[-1]._depthwise_conv]\n",
    "target_layers = [c_model.encoder.layer4[-1]]\n",
    "print(target_layers)"
   ]
  },
  {
   "cell_type": "code",
   "execution_count": 125,
   "id": "c70b7565-de1c-43f5-be2b-2fb7078ac31c",
   "metadata": {
    "tags": []
   },
   "outputs": [
    {
     "name": "stderr",
     "output_type": "stream",
     "text": [
      "100%|██████████| 25/25 [00:07<00:00,  3.43it/s]\n"
     ]
    },
    {
     "data": {
      "image/png": "[encoded data removed]",
      "text/plain": [
       "<Figure size 640x480 with 2 Axes>"
      ]
     },
     "metadata": {},
     "output_type": "display_data"
    }
   ],
   "source": [
    "predictions = make_predictions(model, val_loader)"
   ]
  },
  {
   "cell_type": "code",
   "execution_count": 126,
   "id": "88acabf7",
   "metadata": {
    "tags": []
   },
   "outputs": [],
   "source": [
    "show_gradcam(c_model, target_layers, val_ds, predictions, true_labels=False) "
   ]
  },
  {
   "cell_type": "markdown",
   "id": "0d2cea6e-b1b8-4b43-81a7-2e12cb5c9fc6",
   "metadata": {},
   "source": [
    "Below: for testing"
   ]
  },
  {
   "cell_type": "code",
   "execution_count": 75,
   "id": "2cb0ed70-8237-434b-b1d7-e9da580c503a",
   "metadata": {
    "tags": []
   },
   "outputs": [],
   "source": [
    "# test images\n",
    "\n",
    "test_img_dir = r'E:\\E-GLAU ONH Cirrus En Face Images'\n",
    "\n",
    "test_img_whole_paths = []\n",
    "\n",
    "labels = [0, 0, 0, 0]\n",
    "\n",
    "for path in os.listdir(test_img_dir):\n",
    "    if path[0] != '.':\n",
    "        #print(path)\n",
    "        labels[int(path[0])] += 1\n",
    "        img_p = os.path.join(test_img_dir, path)\n",
    "        # check if current path is a file\n",
    "        if os.path.isfile(img_p):\n",
    "            #print(path)\n",
    "            # store the path names\n",
    "            item = {}\n",
    "            item['img_path'] = img_p\n",
    "            test_img_whole_paths.append(item)"
   ]
  },
  {
   "cell_type": "code",
   "execution_count": 76,
   "id": "f72f1ee4-6c4e-4d6a-b35c-df9ab0824526",
   "metadata": {
    "tags": []
   },
   "outputs": [
    {
     "name": "stdout",
     "output_type": "stream",
     "text": [
      "287\n",
      "[47, 125, 107, 8]\n"
     ]
    }
   ],
   "source": [
    "print(len(test_img_whole_paths))\n",
    "print(labels)"
   ]
  },
  {
   "cell_type": "code",
   "execution_count": 85,
   "id": "cd8a86ed-b142-410c-8c3e-c86647641940",
   "metadata": {
    "tags": []
   },
   "outputs": [],
   "source": [
    "new_test_ds = MyDataset(test_img_whole_paths, 'test')\n",
    "new_test_loader = DataLoader(new_test_ds, batch_size=2, shuffle=False) # test"
   ]
  },
  {
   "cell_type": "code",
   "execution_count": 110,
   "id": "34ce5ed3-c649-4f3b-89bb-d6a9a45b6c89",
   "metadata": {
    "tags": []
   },
   "outputs": [
    {
     "name": "stderr",
     "output_type": "stream",
     "text": [
      "100%|██████████| 144/144 [00:09<00:00, 15.49it/s]\n"
     ]
    },
    {
     "data": {
      "image/png": "[encoded data removed]",
      "text/plain": [
       "<Figure size 640x480 with 2 Axes>"
      ]
     },
     "metadata": {},
     "output_type": "display_data"
    }
   ],
   "source": [
    "new_predictions = make_predictions(model, new_test_loader)"
   ]
  },
  {
   "cell_type": "code",
   "execution_count": 111,
   "id": "1670acb5-3d58-4202-84df-c1ef6bd8d8ee",
   "metadata": {
    "tags": []
   },
   "outputs": [],
   "source": [
    "show_gradcam(c_model, target_layers, new_test_ds, new_predictions, true_labels=False) "
   ]
  },
  {
   "cell_type": "code",
   "execution_count": 32,
   "id": "04190596-04ee-4fc8-9f99-da524197e364",
   "metadata": {
    "tags": []
   },
   "outputs": [
    {
     "name": "stderr",
     "output_type": "stream",
     "text": [
      "100%|██████████| 144/144 [00:11<00:00, 12.96it/s]\n"
     ]
    }
   ],
   "source": [
    "# test the generated mask\n",
    "fmask_dir = 'fake_mask'\n",
    "model = model.to(device)\n",
    "model.eval()\n",
    "with torch.no_grad():\n",
    "    for item in tqdm(new_test_loader):\n",
    "        inputs, targets = item['image'].to(device), item['mask'].to(device)\n",
    "        filename = item['filename']\n",
    "        \n",
    "        outputs,_ = model(inputs)\n",
    "        _, output_toprint = torch.max(outputs, 1)\n",
    "        np_fmask = output_toprint.detach().cpu().numpy()\n",
    "        #print(np_fmask)\n",
    "        \n",
    "        np_mask = item['mask'].numpy()\n",
    "        #print(np_mask[0], filename[0])\n",
    "        \n",
    "        #print(np_fmask.shape)\n",
    "        for idx in range(len(np_fmask)):\n",
    "            #print(fm.shape)\n",
    "            \n",
    "            #print(np.unique(np_fmask[idx].reshape(-1, 1)))\n",
    "            im = Image.fromarray((np_fmask[idx]*63).astype(\"uint8\"))\n",
    "            #im.show()\n",
    "            tmp = '-'.join(['fake', filename[idx]])\n",
    "            new_path = os.path.join(fmask_dir, tmp)\n",
    "            im.save(new_path)"
   ]
  },
  {
   "cell_type": "code",
   "execution_count": 112,
   "id": "e3592ce3-cc39-417c-b34f-06ec0244034a",
   "metadata": {
    "tags": []
   },
   "outputs": [
    {
     "data": {
      "text/html": [
       "<div>\n",
       "<style scoped>\n",
       "    .dataframe tbody tr th:only-of-type {\n",
       "        vertical-align: middle;\n",
       "    }\n",
       "\n",
       "    .dataframe tbody tr th {\n",
       "        vertical-align: top;\n",
       "    }\n",
       "\n",
       "    .dataframe thead th {\n",
       "        text-align: right;\n",
       "    }\n",
       "</style>\n",
       "<table border=\"1\" class=\"dataframe\">\n",
       "  <thead>\n",
       "    <tr style=\"text-align: right;\">\n",
       "      <th></th>\n",
       "      <th>filename</th>\n",
       "      <th>true_label</th>\n",
       "      <th>predicted_label</th>\n",
       "    </tr>\n",
       "  </thead>\n",
       "  <tbody>\n",
       "    <tr>\n",
       "      <th>0</th>\n",
       "      <td>2-EGLAU0163-Optic Disc Cube 200x200-RE.png</td>\n",
       "      <td>0</td>\n",
       "      <td>1</td>\n",
       "    </tr>\n",
       "    <tr>\n",
       "      <th>1</th>\n",
       "      <td>1-EGLAU0163-Optic Disc Cube 200x200-LE.png</td>\n",
       "      <td>1</td>\n",
       "      <td>0</td>\n",
       "    </tr>\n",
       "    <tr>\n",
       "      <th>2</th>\n",
       "      <td>2-EGLAU0166-Optic Disc Cube 200x200-RE.png</td>\n",
       "      <td>0</td>\n",
       "      <td>1</td>\n",
       "    </tr>\n",
       "    <tr>\n",
       "      <th>3</th>\n",
       "      <td>1-EGLAU0171-Optic Disc Cube 200x200-RE.png</td>\n",
       "      <td>1</td>\n",
       "      <td>0</td>\n",
       "    </tr>\n",
       "    <tr>\n",
       "      <th>4</th>\n",
       "      <td>1-EGLAU0172-Optic Disc Cube 200x200-LE.png</td>\n",
       "      <td>1</td>\n",
       "      <td>0</td>\n",
       "    </tr>\n",
       "    <tr>\n",
       "      <th>...</th>\n",
       "      <td>...</td>\n",
       "      <td>...</td>\n",
       "      <td>...</td>\n",
       "    </tr>\n",
       "    <tr>\n",
       "      <th>70</th>\n",
       "      <td>1-EGLAU0311-Optic Disc Cube 200x200-LE.png</td>\n",
       "      <td>1</td>\n",
       "      <td>0</td>\n",
       "    </tr>\n",
       "    <tr>\n",
       "      <th>71</th>\n",
       "      <td>2-EGLAU0284-Optic Disc Cube 200x200-LE.png</td>\n",
       "      <td>0</td>\n",
       "      <td>1</td>\n",
       "    </tr>\n",
       "    <tr>\n",
       "      <th>72</th>\n",
       "      <td>2-EGLAU0287-Optic Disc Cube 200x200-LE.png</td>\n",
       "      <td>0</td>\n",
       "      <td>1</td>\n",
       "    </tr>\n",
       "    <tr>\n",
       "      <th>73</th>\n",
       "      <td>2-EGLAU0290-Optic Disc Cube 200x200-LE.png</td>\n",
       "      <td>0</td>\n",
       "      <td>1</td>\n",
       "    </tr>\n",
       "    <tr>\n",
       "      <th>74</th>\n",
       "      <td>2-EGLAU0292-Optic Disc Cube 200x200-LE.png</td>\n",
       "      <td>0</td>\n",
       "      <td>1</td>\n",
       "    </tr>\n",
       "  </tbody>\n",
       "</table>\n",
       "<p>75 rows × 3 columns</p>\n",
       "</div>"
      ],
      "text/plain": [
       "                                      filename  true_label  predicted_label\n",
       "0   2-EGLAU0163-Optic Disc Cube 200x200-RE.png           0                1\n",
       "1   1-EGLAU0163-Optic Disc Cube 200x200-LE.png           1                0\n",
       "2   2-EGLAU0166-Optic Disc Cube 200x200-RE.png           0                1\n",
       "3   1-EGLAU0171-Optic Disc Cube 200x200-RE.png           1                0\n",
       "4   1-EGLAU0172-Optic Disc Cube 200x200-LE.png           1                0\n",
       "..                                         ...         ...              ...\n",
       "70  1-EGLAU0311-Optic Disc Cube 200x200-LE.png           1                0\n",
       "71  2-EGLAU0284-Optic Disc Cube 200x200-LE.png           0                1\n",
       "72  2-EGLAU0287-Optic Disc Cube 200x200-LE.png           0                1\n",
       "73  2-EGLAU0290-Optic Disc Cube 200x200-LE.png           0                1\n",
       "74  2-EGLAU0292-Optic Disc Cube 200x200-LE.png           0                1\n",
       "\n",
       "[75 rows x 3 columns]"
      ]
     },
     "metadata": {},
     "output_type": "display_data"
    }
   ],
   "source": [
    "data_detail = r'C:\\Users\\user\\Downloads\\Susan_project\\error_record.csv'\n",
    "\n",
    "df = pd.read_csv(data_detail)\n",
    "display(df)"
   ]
  },
  {
   "cell_type": "code",
   "execution_count": 113,
   "id": "214ca6c9-ceab-4314-a8af-64d5003c9e9c",
   "metadata": {
    "tags": []
   },
   "outputs": [],
   "source": [
    "filename = df.loc[:, 'filename'].tolist()\n",
    "true_label = df.loc[:, 'true_label'].tolist()\n",
    "predicted_label = df.loc[:, 'predicted_label'].tolist()"
   ]
  },
  {
   "cell_type": "code",
   "execution_count": 114,
   "id": "c3754066-fb2c-4116-8714-a60e026b7095",
   "metadata": {
    "tags": []
   },
   "outputs": [
    {
     "name": "stdout",
     "output_type": "stream",
     "text": [
      "FP 9 0.16363636363636364\n",
      "FN 32 0.256\n"
     ]
    }
   ],
   "source": [
    "# discard 2\n",
    "FP = 0\n",
    "FN = 0\n",
    "for i in range(len(filename)):\n",
    "    #print(filename[i][0])\n",
    "    if int(filename[i][0]) != 2:\n",
    "        if true_label[i] == 0:\n",
    "            FP += 1\n",
    "        else:\n",
    "            FN += 1\n",
    "            \n",
    "print('FP', FP, FP/55)\n",
    "print('FN', FN, FN/125)"
   ]
  },
  {
   "cell_type": "code",
   "execution_count": 105,
   "id": "ac7d8923-7177-4af7-9bc5-717c35d9fa25",
   "metadata": {
    "tags": []
   },
   "outputs": [
    {
     "name": "stdout",
     "output_type": "stream",
     "text": [
      "FP 51 0.3148148148148148\n",
      "FN 27 0.216\n"
     ]
    }
   ],
   "source": [
    "# discard 2\n",
    "FP = 0\n",
    "FN = 0\n",
    "for i in range(len(filename)):\n",
    "    #print(filename[i][0])\n",
    "    #if int(filename[i][0]) != 2:\n",
    "    if true_label[i] == 0:\n",
    "        FP += 1\n",
    "    else:\n",
    "        FN += 1\n",
    "            \n",
    "print('FP', FP, FP/162)\n",
    "print('FN', FN, FN/125)"
   ]
  },
  {
   "cell_type": "markdown",
   "id": "56af5b0f-37e2-4ebf-90b0-5a16e78438da",
   "metadata": {},
   "source": [
    "Check image distribution"
   ]
  },
  {
   "cell_type": "code",
   "execution_count": 142,
   "id": "7b45d02b-8694-412c-884e-eba2b6dd9ff5",
   "metadata": {
    "tags": []
   },
   "outputs": [],
   "source": [
    "mean = []\n",
    "contrast = []\n",
    "dataset_class = []"
   ]
  },
  {
   "cell_type": "code",
   "execution_count": 143,
   "id": "1144cf0d-ef08-4196-bc5b-590c6c13e912",
   "metadata": {
    "tags": []
   },
   "outputs": [
    {
     "name": "stderr",
     "output_type": "stream",
     "text": [
      "C:\\Users\\user\\AppData\\Local\\Temp\\ipykernel_11624\\1710156770.py:12: RuntimeWarning: overflow encountered in scalar add\n",
      "  c = (imax - imin) / (imax + imin)\n"
     ]
    }
   ],
   "source": [
    "for img in test_img_whole_paths:\n",
    "    im = Image.open(img['img_path']).convert(\"L\")\n",
    "    img_w, img_h= im.size\n",
    "    img_left = 12\n",
    "    img_top = 12\n",
    "    img_right = img_w-12\n",
    "    img_bottom = img_h-12\n",
    "    im = im.crop((img_left, img_top, img_right, img_bottom))\n",
    "    imin = np.min(im)\n",
    "    imax = np.max(im)\n",
    "    \n",
    "    c = (imax - imin) / (imax + imin)\n",
    "    #print(c)\n",
    "    contrast.append(c)\n",
    "    m = np.mean(im)\n",
    "    mean.append(m)\n",
    "    \n",
    "    dataset_class.append('new')\n",
    "    "
   ]
  },
  {
   "cell_type": "code",
   "execution_count": 144,
   "id": "b11eb76a-63ba-4778-9513-f071755ede15",
   "metadata": {
    "tags": []
   },
   "outputs": [
    {
     "name": "stderr",
     "output_type": "stream",
     "text": [
      "C:\\Users\\user\\AppData\\Local\\Temp\\ipykernel_11624\\2430952479.py:12: RuntimeWarning: overflow encountered in scalar add\n",
      "  c = (imax - imin) / (imax + imin)\n"
     ]
    }
   ],
   "source": [
    "for img in img_whole_paths:\n",
    "    im = Image.open(img).convert(\"L\")\n",
    "    img_w, img_h= im.size\n",
    "    img_left = 12\n",
    "    img_top = 12\n",
    "    img_right = img_w-12\n",
    "    img_bottom = img_h-12\n",
    "    im = im.crop((img_left, img_top, img_right, img_bottom))\n",
    "    imin = np.min(im)\n",
    "    imax = np.max(im)\n",
    "    \n",
    "    c = (imax - imin) / (imax + imin)\n",
    "    #print(c)\n",
    "    contrast.append(c)\n",
    "    m = np.mean(im)\n",
    "    mean.append(m)\n",
    "    \n",
    "    dataset_class.append('old')"
   ]
  },
  {
   "cell_type": "code",
   "execution_count": 145,
   "id": "1cd6fa30-c28b-4db1-acd2-f20d03cf810b",
   "metadata": {
    "tags": []
   },
   "outputs": [],
   "source": [
    "data = {'mean': mean,\n",
    "        'contrast': contrast,\n",
    "        'class': dataset_class}\n",
    "\n",
    "df = pd.DataFrame(data)"
   ]
  },
  {
   "cell_type": "code",
   "execution_count": 146,
   "id": "78991dfc-4da8-4591-a6fc-8c4a39f0231c",
   "metadata": {
    "tags": []
   },
   "outputs": [
    {
     "data": {
      "text/plain": [
       "<Axes: xlabel='mean', ylabel='contrast'>"
      ]
     },
     "execution_count": 146,
     "metadata": {},
     "output_type": "execute_result"
    },
    {
     "data": {
      "image/png": "[encoded data removed]",
      "text/plain": [
       "<Figure size 640x480 with 1 Axes>"
      ]
     },
     "metadata": {},
     "output_type": "display_data"
    }
   ],
   "source": [
    "sns.scatterplot(data=df, x=\"mean\", y=\"contrast\", hue=\"class\")"
   ]
  },
  {
   "cell_type": "code",
   "execution_count": null,
   "id": "c8b33d80-52d7-47aa-b49b-0806b8e94dea",
   "metadata": {},
   "outputs": [],
   "source": []
  }
 ],
 "metadata": {
  "kernelspec": {
   "display_name": "Python 3 (ipykernel)",
   "language": "python",
   "name": "python3"
  },
  "language_info": {
   "codemirror_mode": {
    "name": "ipython",
    "version": 3
   },
   "file_extension": ".py",
   "mimetype": "text/x-python",
   "name": "python",
   "nbconvert_exporter": "python",
   "pygments_lexer": "ipython3",
   "version": "3.11.3"
  }
 },
 "nbformat": 4,
 "nbformat_minor": 5
}
